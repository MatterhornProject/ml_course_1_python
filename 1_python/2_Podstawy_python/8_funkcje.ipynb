{
 "cells": [
  {
   "cell_type": "markdown",
   "metadata": {},
   "source": [
    "# Funkcje\n",
    "\n",
    "Funkcje są to kody, które chcemy wykorzystać ponownie, bez kopiowania/ pisania całej operacji od początku.\n",
    "Do tej pory korzystaliśmy z wielu wbudowanych funkcji, np. round.\n",
    "Teraz nauczymy się tworzyć własne.\n",
    "\n",
    "```python\n",
    "def nazwa_funkcji(argumenty):\n",
    "    kod funkcji\n",
    "    return zmienna\n",
    "```\n",
    "Funkcja może zwracać wartości lub manipulować argumentami."
   ]
  },
  {
   "cell_type": "code",
   "execution_count": null,
   "metadata": {},
   "outputs": [],
   "source": [
    "# wyznaczenie szescianow wartości z listy\n",
    "\n",
    "\n",
    "# nazwy argumentów funkcji można używać tylko w jej wnętrzu"
   ]
  },
  {
   "cell_type": "code",
   "execution_count": null,
   "metadata": {},
   "outputs": [],
   "source": [
    "# wywołanie funkcji\n"
   ]
  },
  {
   "cell_type": "code",
   "execution_count": null,
   "metadata": {},
   "outputs": [],
   "source": []
  },
  {
   "cell_type": "code",
   "execution_count": null,
   "metadata": {},
   "outputs": [],
   "source": [
    "# Funkcja z modyfikacją wejściowego argumentu\n"
   ]
  },
  {
   "cell_type": "code",
   "execution_count": null,
   "metadata": {},
   "outputs": [],
   "source": []
  },
  {
   "cell_type": "code",
   "execution_count": null,
   "metadata": {},
   "outputs": [],
   "source": [
    "# Obsługa błędów\n"
   ]
  },
  {
   "cell_type": "code",
   "execution_count": null,
   "metadata": {},
   "outputs": [],
   "source": []
  },
  {
   "cell_type": "markdown",
   "metadata": {},
   "source": [
    "## Parametry defaultowe\n",
    "W funkcji możemy zdefiniować domyslne wartości argumentów, w sytuacji kiedy nie zostaną podane.\n",
    "\n"
   ]
  },
  {
   "cell_type": "code",
   "execution_count": null,
   "metadata": {},
   "outputs": [],
   "source": [
    "# Dodanie parametrów defaultowych do funkcji szescian"
   ]
  },
  {
   "cell_type": "code",
   "execution_count": null,
   "metadata": {},
   "outputs": [],
   "source": []
  },
  {
   "cell_type": "markdown",
   "metadata": {},
   "source": [
    "## Dobre praktyki\n",
    "\n",
    "W ramach dobrych praktyk przy definiowaniu funkcji powinniśmy dodać:\n",
    "1. docstring - opis funkcji z wytłumaczeniem jej parametrów\n",
    "2. typy argumentów wejściowych.\n",
    "3. typ zwracanej zmiennej."
   ]
  },
  {
   "cell_type": "code",
   "execution_count": null,
   "metadata": {},
   "outputs": [],
   "source": [
    "def szescian_lista(lista: list) -> list:\n",
    "    \"\"\" \n",
    "    funkcja zwraca listę o długości listy wejściowej z sześcianami wartości listy\n",
    "\n",
    "    Args:\n",
    "        lista - lista zawierająca liczby, które mają zostać podniesione do potęgi\n",
    "    \n",
    "    Return:\n",
    "        Lista sześcianów\n",
    "\n",
    "    Exceptions:\n",
    "        Zwraca błąd, gdy lista jest pusta\n",
    "    \"\"\"\n",
    "    \n",
    "    if len(lista) ==0:\n",
    "        raise Exception('Podales pusta liste')\n",
    "    return  [i **3 for i in lista if type(i) in (float, int)]"
   ]
  },
  {
   "cell_type": "code",
   "execution_count": null,
   "metadata": {},
   "outputs": [],
   "source": [
    "def szescian_lista(lista: list = [1,2,3]) -> list:\n",
    "    \"\"\" \n",
    "    funkcja zwraca listę o długości listy wejściowej z sześcianami wartości listy\n",
    "\n",
    "    Args:\n",
    "        lista - lista zawierająca liczby, które mają zostać podniesione do potęgi\n",
    "    \n",
    "    Return:\n",
    "        Lista wejsciowa, Lista sześcianów\n",
    "\n",
    "    Exceptions:\n",
    "        Zwraca błąd, gdy lista jest pusta\n",
    "    \"\"\"\n",
    "    \n",
    "    if len(lista) ==0:\n",
    "        raise Exception('Podales pusta liste')\n",
    "    return  lista, [i **3 for i in lista if type(i) in (float, int)]"
   ]
  },
  {
   "cell_type": "code",
   "execution_count": null,
   "metadata": {},
   "outputs": [],
   "source": []
  },
  {
   "cell_type": "code",
   "execution_count": null,
   "metadata": {},
   "outputs": [],
   "source": []
  },
  {
   "cell_type": "code",
   "execution_count": null,
   "metadata": {},
   "outputs": [],
   "source": []
  },
  {
   "cell_type": "code",
   "execution_count": null,
   "metadata": {},
   "outputs": [],
   "source": []
  },
  {
   "cell_type": "markdown",
   "metadata": {},
   "source": [
    "## Skrypt python \n",
    "Przeniesiemy się teraz do skryptu:\n",
    "1_python\\2_Podstawy_python\\8_funkcje_skrypt.py\n",
    "\n",
    "Napiszemy funkcję w skrypcie pythona i sprawdzimy w jaki sposób można ją użyc.\n",
    "\n",
    "Funkcja przyjmie jako argument słownik, którego kluczem będzie ID pracownika, a wartościami wynagrodzenie.\n",
    "\n",
    "Funkcja wyznaczy średnie wynagrodzenie zespołu. Jeżeli wynagrodzenie jest co najmniej 20% niższe niż średnia, zwiększy je o 20%, jeżeli jest między 10 a 20%, zwiększy je o 10%. Dla pozostałych wynagrodzenie pozostanie bez zmian. Funkcja powinna także zwrócić nową średnią wyngrodzeń."
   ]
  },
  {
   "cell_type": "code",
   "execution_count": null,
   "metadata": {},
   "outputs": [],
   "source": [
    "wyn = {1: 1500,\n",
    "       2: 4500,\n",
    "       6: 20000,\n",
    "       7: 10000,\n",
    "       10: 7800}"
   ]
  },
  {
   "cell_type": "code",
   "execution_count": null,
   "metadata": {},
   "outputs": [],
   "source": []
  },
  {
   "cell_type": "code",
   "execution_count": null,
   "metadata": {},
   "outputs": [],
   "source": []
  },
  {
   "cell_type": "code",
   "execution_count": null,
   "metadata": {},
   "outputs": [],
   "source": []
  },
  {
   "cell_type": "code",
   "execution_count": null,
   "metadata": {},
   "outputs": [],
   "source": []
  },
  {
   "cell_type": "code",
   "execution_count": null,
   "metadata": {},
   "outputs": [],
   "source": [
    "wyn = {1: 1500,\n",
    "       2: 'dwa',\n",
    "       6: 20000,\n",
    "       7: 10000,\n",
    "       10: 7800}"
   ]
  },
  {
   "cell_type": "code",
   "execution_count": null,
   "metadata": {},
   "outputs": [],
   "source": []
  }
 ],
 "metadata": {
  "kernelspec": {
   "display_name": "Python 3",
   "language": "python",
   "name": "python3"
  },
  "language_info": {
   "codemirror_mode": {
    "name": "ipython",
    "version": 3
   },
   "file_extension": ".py",
   "mimetype": "text/x-python",
   "name": "python",
   "nbconvert_exporter": "python",
   "pygments_lexer": "ipython3",
   "version": "3.11.1"
  }
 },
 "nbformat": 4,
 "nbformat_minor": 2
}
