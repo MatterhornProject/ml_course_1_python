{
 "cells": [
  {
   "cell_type": "markdown",
   "metadata": {},
   "source": [
    "# Pętle\n",
    "Pętle to kody, które chcemy wywoływać wielokrotnie, na ogół z różnymi warunkami.\n",
    "\n",
    "W pythonie wyróżniamy pętle:\n",
    "1. For - działa określoną liczbę razy (po przejściu przez wszystkie parametry).\n",
    "2. While - działa do czasu spełnienia warunków.\n",
    "\n",
    "Więcej informacji: https://wiki.python.org/moin/ForLoop\n",
    "\n",
    "## Pętla for\n",
    "\n",
    "W pętli for często używa się iteratora:\n",
    "1. range(n) - przejście pętli od 0 do n-1\n",
    "2. range(a,b) - przejście od a do b-1\n",
    "3, range(a,b,c) - przejście od a do b-1 z krokiem c"
   ]
  },
  {
   "cell_type": "code",
   "execution_count": null,
   "metadata": {},
   "outputs": [],
   "source": []
  },
  {
   "cell_type": "code",
   "execution_count": null,
   "metadata": {},
   "outputs": [],
   "source": [
    "# Wypisanie poszczególnych liczb calkowitych do 4\n"
   ]
  },
  {
   "cell_type": "code",
   "execution_count": null,
   "metadata": {},
   "outputs": [],
   "source": []
  },
  {
   "cell_type": "code",
   "execution_count": null,
   "metadata": {},
   "outputs": [],
   "source": [
    "# Wypisanie poszczególnych liczb calkowitych od 1 do 4\n"
   ]
  },
  {
   "cell_type": "code",
   "execution_count": null,
   "metadata": {},
   "outputs": [],
   "source": []
  },
  {
   "cell_type": "code",
   "execution_count": null,
   "metadata": {},
   "outputs": [],
   "source": [
    "# To samo, ale co 2 liczba\n"
   ]
  },
  {
   "cell_type": "code",
   "execution_count": null,
   "metadata": {},
   "outputs": [],
   "source": [
    "# Użyjemy print\n",
    "# Wyznaczenie sześcianu liczb naturalnych parzystych do 10\n"
   ]
  },
  {
   "cell_type": "code",
   "execution_count": 8,
   "metadata": {},
   "outputs": [],
   "source": [
    "# Wyznaczenie sześcianu liczb naturalnych parzystych do 10\n"
   ]
  },
  {
   "cell_type": "code",
   "execution_count": null,
   "metadata": {},
   "outputs": [],
   "source": [
    "# Upiększenie pokazania wyników\n"
   ]
  },
  {
   "cell_type": "markdown",
   "metadata": {},
   "source": [
    "Stworzymy pętlę, która połączy ze sobą imiona i nazwiska w nową pętlę."
   ]
  },
  {
   "cell_type": "code",
   "execution_count": 11,
   "metadata": {},
   "outputs": [],
   "source": [
    "imiona = ['Anna', 'Piotr','Kazimierz','Justyna']\n",
    "nazwiska = ['Kowalska','Kowal','Nowakowski','Staszek']\n",
    "imiona_nazwiska = []\n",
    "\n"
   ]
  },
  {
   "cell_type": "code",
   "execution_count": null,
   "metadata": {},
   "outputs": [],
   "source": []
  },
  {
   "cell_type": "code",
   "execution_count": null,
   "metadata": {},
   "outputs": [],
   "source": [
    "# Dodajmy komunikat o dopisaniu osoby do listy\n",
    "imiona = ['Anna', 'Piotr','Kazimierz','Justyna']\n",
    "nazwiska = ['Kowalska','Kowal','Nowakowski','Staszek']\n",
    "imiona_nazwiska = []"
   ]
  },
  {
   "cell_type": "markdown",
   "metadata": {},
   "source": [
    "Napiszemy pętlę, która rozdzieli imiona i nazwiska do dwóch list"
   ]
  },
  {
   "cell_type": "code",
   "execution_count": null,
   "metadata": {},
   "outputs": [],
   "source": []
  },
  {
   "cell_type": "code",
   "execution_count": 17,
   "metadata": {},
   "outputs": [],
   "source": []
  },
  {
   "cell_type": "code",
   "execution_count": null,
   "metadata": {},
   "outputs": [],
   "source": []
  },
  {
   "cell_type": "code",
   "execution_count": null,
   "metadata": {},
   "outputs": [],
   "source": []
  },
  {
   "cell_type": "code",
   "execution_count": null,
   "metadata": {},
   "outputs": [],
   "source": []
  },
  {
   "cell_type": "code",
   "execution_count": 21,
   "metadata": {},
   "outputs": [],
   "source": [
    "# Inaczej\n"
   ]
  },
  {
   "cell_type": "code",
   "execution_count": null,
   "metadata": {},
   "outputs": [],
   "source": [
    "# Co się stanie, gdy listy będą miały różną długość?\n",
    "imiona = ['Anna', 'Piotr','Kazimierz','Justyna','Karolina']\n",
    "nazwiska = ['Kowalska','Kowal','Nowakowski','Staszek']\n",
    "imiona_nazwiska = []"
   ]
  },
  {
   "cell_type": "markdown",
   "metadata": {},
   "source": [
    "Użujemy polecenia break, które przerywa pętle.\n",
    "Można też użyć polecenia continue, które przejdzie do kolejnej iteracji."
   ]
  },
  {
   "cell_type": "code",
   "execution_count": null,
   "metadata": {},
   "outputs": [],
   "source": [
    "imiona = ['Anna', 'Piotr','Kazimierz','Justyna','Karolina']\n",
    "nazwiska = ['Kowalska','Kowal','Nowakowski','Staszek']\n",
    "imiona_nazwiska = []"
   ]
  },
  {
   "cell_type": "markdown",
   "metadata": {},
   "source": [
    "Wróćmy do przykładu z sześcianem liczby. Tym razem użyjemy polecenia <i> continue </i>."
   ]
  },
  {
   "cell_type": "code",
   "execution_count": null,
   "metadata": {},
   "outputs": [],
   "source": []
  },
  {
   "cell_type": "markdown",
   "metadata": {},
   "source": [
    "Funkcja <i> enumerate </i> stworzy krotkę o kolejnym numerze (tak jak range) ale też wartością listy."
   ]
  },
  {
   "cell_type": "code",
   "execution_count": null,
   "metadata": {},
   "outputs": [],
   "source": []
  },
  {
   "cell_type": "code",
   "execution_count": null,
   "metadata": {},
   "outputs": [],
   "source": []
  },
  {
   "cell_type": "markdown",
   "metadata": {},
   "source": [
    "### Użycie pętli for ze słownikiem\n",
    "\n",
    "Wykorzystamy przykład z tematu <i> zaawansowane typy danych </i>"
   ]
  },
  {
   "cell_type": "code",
   "execution_count": 27,
   "metadata": {},
   "outputs": [],
   "source": []
  },
  {
   "cell_type": "code",
   "execution_count": null,
   "metadata": {},
   "outputs": [],
   "source": []
  },
  {
   "cell_type": "code",
   "execution_count": null,
   "metadata": {},
   "outputs": [],
   "source": [
    "# Wyciągnięcie klucza i wartości"
   ]
  },
  {
   "cell_type": "markdown",
   "metadata": {},
   "source": [
    "## Pętla while\n",
    "\n",
    "Pętla while wykonuje się do momentu spełnienia warunków. \n",
    "Największym zagrożeniem pętli while jest zapętlenie, czyli sytuacja, w której pętla wykonuje się nieskończenie wiele razy, przez źle zdefiniowany warunek."
   ]
  },
  {
   "cell_type": "code",
   "execution_count": null,
   "metadata": {},
   "outputs": [],
   "source": [
    "# Przykład nieskończonej pętli\n"
   ]
  },
  {
   "cell_type": "code",
   "execution_count": null,
   "metadata": {},
   "outputs": [],
   "source": [
    "# Wypisanie poszczególnych liczb calkowitych do 4\n"
   ]
  },
  {
   "cell_type": "code",
   "execution_count": null,
   "metadata": {},
   "outputs": [],
   "source": [
    "\n",
    "    "
   ]
  },
  {
   "cell_type": "markdown",
   "metadata": {},
   "source": [
    "## List comprehensions\n",
    "\n",
    "List comprehensions jest to skrócony zapis pętli z użyciem list\n",
    "\n",
    "https://docs.python.org/2/tutorial/datastructures.html"
   ]
  },
  {
   "cell_type": "code",
   "execution_count": null,
   "metadata": {},
   "outputs": [],
   "source": [
    "# Stworzenie listy liczb całkowitych\n"
   ]
  },
  {
   "cell_type": "code",
   "execution_count": null,
   "metadata": {},
   "outputs": [],
   "source": []
  },
  {
   "cell_type": "code",
   "execution_count": null,
   "metadata": {},
   "outputs": [],
   "source": [
    "#Lista sześcianów liczb parzystych\n"
   ]
  },
  {
   "cell_type": "code",
   "execution_count": null,
   "metadata": {},
   "outputs": [],
   "source": [
    "# Usprawnijmy przykład z łączeniem imion i nazwisk\n",
    "imiona = ['Anna', 'Piotr','Kazimierz','Justyna']\n",
    "nazwiska = ['Kowalska','Kowal','Nowakowski','Staszek']\n"
   ]
  },
  {
   "cell_type": "code",
   "execution_count": null,
   "metadata": {},
   "outputs": [],
   "source": [
    "imiona = ['Anna', 'Piotr','Kazimierz','Justyna','Karolina']\n",
    "nazwiska = ['Kowalska','Kowal','Nowakowski','Staszek']\n"
   ]
  }
 ],
 "metadata": {
  "kernelspec": {
   "display_name": "Python 3",
   "language": "python",
   "name": "python3"
  },
  "language_info": {
   "codemirror_mode": {
    "name": "ipython",
    "version": 3
   },
   "file_extension": ".py",
   "mimetype": "text/x-python",
   "name": "python",
   "nbconvert_exporter": "python",
   "pygments_lexer": "ipython3",
   "version": "3.12.5"
  }
 },
 "nbformat": 4,
 "nbformat_minor": 2
}
