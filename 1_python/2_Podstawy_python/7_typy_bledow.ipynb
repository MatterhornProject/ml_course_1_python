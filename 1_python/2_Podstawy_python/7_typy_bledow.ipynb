{
 "cells": [
  {
   "cell_type": "markdown",
   "metadata": {},
   "source": [
    "# Błedy\n",
    "\n",
    "Jak już mogliśmy zaobserwować, niepoprawne napisane kodu powoduje rzucenie błędem. \n",
    "Możemy rozróżnić wiele typów błędów.\n",
    "\n",
    "Jednymi z częstszych mogą być:\n",
    "1. NameError - zmienna nie zostanie znaleziona\n",
    "2. IndexError - nie znaleziono indeksu\n",
    "3. KeyError - nie znaleziono klucza w słowniku\n",
    "4. TypeError - niepoprawny typ\n",
    "5. ZeroDivisionError - próba dzielenia przez zero\n",
    "\n",
    "Więcej typów błędów można znaleźć na stronie: https://www.tutorialsteacher.com/python/error-types-in-python"
   ]
  },
  {
   "cell_type": "code",
   "execution_count": null,
   "metadata": {},
   "outputs": [],
   "source": [
    "# NameError\n"
   ]
  },
  {
   "cell_type": "code",
   "execution_count": null,
   "metadata": {},
   "outputs": [],
   "source": [
    "# IndexError\n"
   ]
  },
  {
   "cell_type": "code",
   "execution_count": null,
   "metadata": {},
   "outputs": [],
   "source": [
    "slownik = {1: 2.5,\n",
    "           2: 3.5,\n",
    "           3: 4.2}"
   ]
  },
  {
   "cell_type": "code",
   "execution_count": null,
   "metadata": {},
   "outputs": [],
   "source": [
    "#KeyError\n"
   ]
  },
  {
   "cell_type": "code",
   "execution_count": null,
   "metadata": {},
   "outputs": [],
   "source": [
    "# TypeError\n"
   ]
  },
  {
   "cell_type": "code",
   "execution_count": null,
   "metadata": {},
   "outputs": [],
   "source": [
    "# ZeroDivisionError\n"
   ]
  },
  {
   "cell_type": "markdown",
   "metadata": {},
   "source": [
    "## Kontrolowanie błędów\n",
    "\n",
    "Kontrolowanie błędów w kodzie możemy za pomocą bloku try/except lub podnoszeniem błędów.\n",
    "\n",
    "Więcej na ten temat można znaleźć na stronie: https://docs.python.org/3/tutorial/errors.html\n",
    "\n",
    "Kontrolowanie błędów usprawnia znajdowanie problematycznych błędów i ułatwia komunikację, gdyż możemy ustalić odpowiadający nam komunikat błędu.\n"
   ]
  },
  {
   "cell_type": "code",
   "execution_count": null,
   "metadata": {},
   "outputs": [],
   "source": [
    "# Blok except wykonuje się, jeżeli kod zwróci błąd\n"
   ]
  },
  {
   "cell_type": "code",
   "execution_count": null,
   "metadata": {},
   "outputs": [],
   "source": [
    "# Jeżeli po słowe except podamy rodzaj błędu, kod wykona się tylko, gdy zostanie zwrócony podany typ błędu.\n"
   ]
  },
  {
   "cell_type": "code",
   "execution_count": null,
   "metadata": {},
   "outputs": [],
   "source": [
    "# Niepoprawny errot type\n"
   ]
  },
  {
   "cell_type": "code",
   "execution_count": null,
   "metadata": {},
   "outputs": [],
   "source": [
    "# Podnoszenie bledu\n",
    "\n"
   ]
  },
  {
   "cell_type": "code",
   "execution_count": null,
   "metadata": {},
   "outputs": [],
   "source": [
    "# Podnoszenie bledu uogolnione\n",
    "\n"
   ]
  }
 ],
 "metadata": {
  "kernelspec": {
   "display_name": "Python 3",
   "language": "python",
   "name": "python3"
  },
  "language_info": {
   "codemirror_mode": {
    "name": "ipython",
    "version": 3
   },
   "file_extension": ".py",
   "mimetype": "text/x-python",
   "name": "python",
   "nbconvert_exporter": "python",
   "pygments_lexer": "ipython3",
   "version": "3.11.1"
  }
 },
 "nbformat": 4,
 "nbformat_minor": 2
}
