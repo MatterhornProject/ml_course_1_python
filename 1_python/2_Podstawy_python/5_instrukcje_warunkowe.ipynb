{
 "cells": [
  {
   "cell_type": "markdown",
   "metadata": {},
   "source": [
    "# Instrukcje warunkowe\n",
    "Instrukcja warunkowa pozwala na wywoływanie kodu tylko w sytuacji spełnienia określonych warunków. Instrukcja warunkowa może składać się z wielu bloków. <b> W instrukcji wywoła się tylko pierwszy, spełniający warunki blok. </b>\n",
    "\n",
    "W instrukcji warunkowe używamy składni\n",
    "```python\n",
    "if conditions1:\n",
    "    blok kodu\n",
    "elif conditions2:\n",
    "    blok kodu\n",
    "else:\n",
    "    blok kodu\n",
    "```\n",
    "\n",
    "Tylko pierwsza część (if) jest wymagana, pozostałe (elif, else) są opcjonanalne. Charakterystyczne dla języka python jest to, że bloki kodu (instrukcja, która ma się wykonać przy spełnionych warunkach) muszą posiadać wcięcie. Ważne jest też to, aby każda linia kodu w bloku miała taki sam poziom wcięcia.\n",
    "\n",
    "Język python ma wbudnowane wyrażenia logiczne <i>True</i> oraz <i> False </i>. Blok kody wykona się, jeżeli warunek w if/elif zwróci wartość True.\n",
    "\n",
    "Dokumentacja: https://docs.python.org/3/tutorial/controlflow.html"
   ]
  },
  {
   "cell_type": "code",
   "execution_count": null,
   "metadata": {},
   "outputs": [],
   "source": [
    "# Aby blok kodu wywołał się zawsze możemy użyć True jako warunku\n"
   ]
  },
  {
   "cell_type": "code",
   "execution_count": null,
   "metadata": {},
   "outputs": [],
   "source": [
    "# Użycie warunku False spowoduje, że kod nie wywoła się nigdy\n"
   ]
  },
  {
   "cell_type": "markdown",
   "metadata": {},
   "source": [
    "W intrukcjach warunkowych możemy użyć wiele rodzajów warunków. Oto kilka z nich:\n",
    "1. \"==\" - czy wyrażenie jest równe\n",
    "2. \"<\" / \"<=\" - czy wyrażenie jest mniejsze / mniejsze lub równe\n",
    "3. \">\" / \">=\" - czy wyrażenie jest większe / większe lub równe\n",
    "\n",
    "Zbadamy teraz czy wprowadzona liczba jest parzysta i wydrukujemy na ekranie odpowiedni komunikat"
   ]
  },
  {
   "cell_type": "code",
   "execution_count": null,
   "metadata": {},
   "outputs": [],
   "source": []
  },
  {
   "cell_type": "code",
   "execution_count": null,
   "metadata": {},
   "outputs": [],
   "source": []
  },
  {
   "cell_type": "code",
   "execution_count": null,
   "metadata": {},
   "outputs": [],
   "source": []
  },
  {
   "cell_type": "code",
   "execution_count": null,
   "metadata": {},
   "outputs": [],
   "source": [
    "# dodamy warunek else w ramach zabezpieczenia\n"
   ]
  },
  {
   "cell_type": "markdown",
   "metadata": {},
   "source": [
    "Napiszemy teraz instrukcję warunkową, sprawdzającą czy podano pusty ciąg znaków"
   ]
  },
  {
   "cell_type": "code",
   "execution_count": null,
   "metadata": {},
   "outputs": [],
   "source": []
  },
  {
   "cell_type": "code",
   "execution_count": null,
   "metadata": {},
   "outputs": [],
   "source": []
  },
  {
   "cell_type": "code",
   "execution_count": null,
   "metadata": {},
   "outputs": [],
   "source": []
  },
  {
   "cell_type": "code",
   "execution_count": null,
   "metadata": {},
   "outputs": [],
   "source": []
  },
  {
   "cell_type": "markdown",
   "metadata": {},
   "source": [
    "## Rozbudowane warunki logiczne\n",
    "\n",
    "W instrukcjach warunkowych możemy używać rozbudowanych warunków logicznych.\n",
    "Warunki łączymy poleceniami:\n",
    "1. and - zwróci True tylko, jeżeli wszystkie warunki będą spełnione.\n",
    "2. or - zwróci True, jeżeli przynajmniej jeden warunek będzie spełniony.\n",
    "\n",
    "And i or można interpretować jako mnożenie i dodawanie w matematyce. Jeżeli używamy w danym zestawie warunków and i or zastanówmy się czy nie należy użyć nawiasów, ponieważ warunki te będą działać zgodnie z kolejnością wykonywania działań."
   ]
  },
  {
   "cell_type": "code",
   "execution_count": null,
   "metadata": {},
   "outputs": [],
   "source": [
    "# Liczenie potęgi a^n \n"
   ]
  },
  {
   "cell_type": "markdown",
   "metadata": {},
   "source": [
    "Napiszemy kod, który wyznaczy kategorię wynagrodzenia:\n",
    "1. Jeżeli pensja <0 zwróci komunikat o niepoprawnej wartości\n",
    "2. Jeżeli pensja <5000 zwróci wartość \"niskie wynagrodzenie\"\n",
    "3. Jeżeli pensja będzie pomiędzy 5000 a 8000 zwróci \"przeciętne wynagrodzenie\"\n",
    "4. Jeżeli pensja >8000 zwróci \"wysokie wynagrodzenie\"\n"
   ]
  },
  {
   "cell_type": "code",
   "execution_count": null,
   "metadata": {},
   "outputs": [],
   "source": []
  },
  {
   "cell_type": "code",
   "execution_count": null,
   "metadata": {},
   "outputs": [],
   "source": []
  },
  {
   "cell_type": "code",
   "execution_count": null,
   "metadata": {},
   "outputs": [],
   "source": []
  },
  {
   "cell_type": "markdown",
   "metadata": {},
   "source": [
    "Wykorzystamy teraz wynik z poprzedniej instrukcji. Jeżeli pracownik ma niskie lub przecietne wynagrodzenie i jego staż pracy wynosi co najmniej 2 lata, zwrócona zostanie rekomendacja podwyżki."
   ]
  },
  {
   "cell_type": "code",
   "execution_count": null,
   "metadata": {},
   "outputs": [],
   "source": []
  },
  {
   "cell_type": "code",
   "execution_count": null,
   "metadata": {},
   "outputs": [],
   "source": []
  },
  {
   "cell_type": "markdown",
   "metadata": {},
   "source": [
    "Sprawdzenie czy dana zmienna jest częścią innej można sprawdzić używając polecenia <i> in </i>.\n",
    "\n",
    "Możemy nim sprawdzić czy zmienna jest elementem listy bądź czy dany znak występuje w ciągu."
   ]
  },
  {
   "cell_type": "code",
   "execution_count": null,
   "metadata": {},
   "outputs": [],
   "source": [
    "# Sprawdźmy czy litera 'a' znajduje się w ciągu znaków\n"
   ]
  },
  {
   "cell_type": "code",
   "execution_count": null,
   "metadata": {},
   "outputs": [],
   "source": [
    "# Jeszcze raz napiszemy instrukcję rekomendacji podwyżki, ale tym razem z uzyciem listy\n"
   ]
  },
  {
   "cell_type": "markdown",
   "metadata": {},
   "source": [
    "Dla ciągu znaków możemy sprawdzić inne warunki, za pomocą metod:\n",
    "\n",
    "1. startswith(xyz) - sprawdzenie czy ciąg rozpoczyna się od znaków 'xyz'\n",
    "2. endswith(xyz) - sprawdzenie czy ciąg kończy się znakami 'xyz'\n"
   ]
  },
  {
   "cell_type": "code",
   "execution_count": null,
   "metadata": {},
   "outputs": [],
   "source": []
  },
  {
   "cell_type": "code",
   "execution_count": null,
   "metadata": {},
   "outputs": [],
   "source": []
  },
  {
   "cell_type": "markdown",
   "metadata": {},
   "source": [
    "### Modyfikacje ciągu znaków"
   ]
  },
  {
   "cell_type": "code",
   "execution_count": null,
   "metadata": {},
   "outputs": [],
   "source": [
    "# Zmiana ciągu znaków \n"
   ]
  },
  {
   "cell_type": "code",
   "execution_count": null,
   "metadata": {},
   "outputs": [],
   "source": []
  },
  {
   "cell_type": "code",
   "execution_count": null,
   "metadata": {},
   "outputs": [],
   "source": []
  },
  {
   "cell_type": "code",
   "execution_count": null,
   "metadata": {},
   "outputs": [],
   "source": []
  },
  {
   "cell_type": "code",
   "execution_count": null,
   "metadata": {},
   "outputs": [],
   "source": []
  },
  {
   "cell_type": "code",
   "execution_count": null,
   "metadata": {},
   "outputs": [],
   "source": [
    "# Sprawdzenie pozycji podciągu (pierwszego znaku z podciągu) w ciągu. \n"
   ]
  }
 ],
 "metadata": {
  "kernelspec": {
   "display_name": "Python 3",
   "language": "python",
   "name": "python3"
  },
  "language_info": {
   "codemirror_mode": {
    "name": "ipython",
    "version": 3
   },
   "file_extension": ".py",
   "mimetype": "text/x-python",
   "name": "python",
   "nbconvert_exporter": "python",
   "pygments_lexer": "ipython3",
   "version": "3.12.5"
  }
 },
 "nbformat": 4,
 "nbformat_minor": 2
}
