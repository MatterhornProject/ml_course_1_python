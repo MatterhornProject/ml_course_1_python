{
 "cells": [
  {
   "cell_type": "markdown",
   "metadata": {},
   "source": [
    "# Input variables\n",
    "\n",
    "Jeżeli chcemy napisać skrypt, w którym użytkownik poda wartość, możemy skorzystać z funkcji input()"
   ]
  },
  {
   "cell_type": "code",
   "execution_count": 1,
   "metadata": {},
   "outputs": [
    {
     "data": {
      "text/plain": [
       "'10'"
      ]
     },
     "execution_count": 1,
     "metadata": {},
     "output_type": "execute_result"
    }
   ],
   "source": [
    "input()"
   ]
  },
  {
   "cell_type": "markdown",
   "metadata": {},
   "source": [
    "#"
   ]
  },
  {
   "cell_type": "code",
   "execution_count": 2,
   "metadata": {},
   "outputs": [
    {
     "data": {
      "text/plain": [
       "'9'"
      ]
     },
     "execution_count": 2,
     "metadata": {},
     "output_type": "execute_result"
    }
   ],
   "source": [
    "input(\"Podaj liczbe\")"
   ]
  },
  {
   "cell_type": "markdown",
   "metadata": {},
   "source": [
    "Napiszemy funkcję, która przyjmie od użytkownika czas trwania kampanii reklamowej, czas, który już upłynął od startu, zaplanowane wpływy, oraz aktualne wpływy. Funkcja zwróci komunikat, czy kampania idzie zgodnie z założeniami (zakładając, że codzienny efekt jest stały).\n"
   ]
  },
  {
   "cell_type": "code",
   "execution_count": 3,
   "metadata": {},
   "outputs": [],
   "source": [
    "def kampania_rezultat():\n",
    "    czas_kampanii = int(input(\"Podaj na ile dnie jest zaplanowana kampania:\"))\n",
    "    czas_jaki_minal = int(input(\"Podaj ile dni kampanii juz sie zakonczyło: \"))\n",
    "    wplywy_total = int(input(\"Podaj jakie sa szacowane wplywy: \"))\n",
    "    wplywy_aktualne = int(input(\"Podaj jakie wplywy zaobserwowano do tej pory: \"))\n",
    "    if czas_kampanii<=0:\n",
    "        return \"Kampania musi trwac co najmniej 1 dzien\"\n",
    "    if czas_jaki_minal <=0:\n",
    "        return \"Musi minac przynajmniej 1 dzien kampanii\"\n",
    "    srednie_wplywy_total = wplywy_total / czas_kampanii\n",
    "    srednie_wplywy_aktualne = wplywy_aktualne / czas_jaki_minal\n",
    "    if srednie_wplywy_aktualne < srednie_wplywy_total:\n",
    "        return f'Aktualne wplywy sa zbyt niskie. Wynosza sredniodziennie {srednie_wplywy_aktualne}, a powinny {srednie_wplywy_total}'\n",
    "    elif srednie_wplywy_aktualne >= srednie_wplywy_total:\n",
    "        return 'Wszystko zgodnie z planem'"
   ]
  },
  {
   "cell_type": "code",
   "execution_count": 4,
   "metadata": {},
   "outputs": [
    {
     "data": {
      "text/plain": [
       "'Aktualne wplywy sa zbyt niskie. Wynosza sredniodziennie 800.0, a powinny 1000.0'"
      ]
     },
     "execution_count": 4,
     "metadata": {},
     "output_type": "execute_result"
    }
   ],
   "source": [
    "kampania_rezultat()"
   ]
  }
 ],
 "metadata": {
  "kernelspec": {
   "display_name": "Python 3",
   "language": "python",
   "name": "python3"
  },
  "language_info": {
   "codemirror_mode": {
    "name": "ipython",
    "version": 3
   },
   "file_extension": ".py",
   "mimetype": "text/x-python",
   "name": "python",
   "nbconvert_exporter": "python",
   "pygments_lexer": "ipython3",
   "version": "3.12.5"
  }
 },
 "nbformat": 4,
 "nbformat_minor": 2
}
