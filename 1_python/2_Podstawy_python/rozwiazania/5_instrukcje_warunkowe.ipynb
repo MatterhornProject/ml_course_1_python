{
 "cells": [
  {
   "cell_type": "markdown",
   "metadata": {},
   "source": [
    "# Instrukcje warunkowe\n",
    "Instrukcja warunkowa pozwala na wywoływanie kodu tylko w sytuacji spełnienia określonych warunków. Instrukcja warunkowa może składać się z wielu bloków. <b> W instrukcji wywoła się tylko pierwszy, spełniający warunki blok. </b>\n",
    "\n",
    "W instrukcji warunkowe używamy składni\n",
    "```python\n",
    "if conditions1:\n",
    "    blok kodu\n",
    "elif conditions2:\n",
    "    blok kodu\n",
    "else:\n",
    "    blok kodu\n",
    "```\n",
    "\n",
    "Tylko pierwsza część (if) jest wymagana, pozostałe (elif, else) są opcjonanalne. Charakterystyczne dla języka python jest to, że bloki kodu (instrukcja, która ma się wykonać przy spełnionych warunkach) muszą posiadać wcięcie. Ważne jest też to, aby każda linia kodu w bloku miała taki sam poziom wcięcia.\n",
    "\n",
    "Język python ma wbudnowane wyrażenia logiczne <i>True</i> oraz <i> False </i>. Blok kody wykona się, jeżeli warunek w if/elif zwróci wartość True.\n",
    "\n",
    "Dokumentacja: https://docs.python.org/3/tutorial/controlflow.html"
   ]
  },
  {
   "cell_type": "code",
   "execution_count": 2,
   "metadata": {},
   "outputs": [
    {
     "name": "stdout",
     "output_type": "stream",
     "text": [
      "sukces\n"
     ]
    }
   ],
   "source": [
    "# Aby blok kodu wywołał się zawsze możemy użyć True jako warunku\n",
    "if True:\n",
    "    print(\"sukces\")"
   ]
  },
  {
   "cell_type": "code",
   "execution_count": 5,
   "metadata": {},
   "outputs": [
    {
     "ename": "IndentationError",
     "evalue": "unindent does not match any outer indentation level (<string>, line 3)",
     "output_type": "error",
     "traceback": [
      "\u001b[1;36m  File \u001b[1;32m<string>:3\u001b[1;36m\u001b[0m\n\u001b[1;33m    print(\"sukces2\")\u001b[0m\n\u001b[1;37m                    ^\u001b[0m\n\u001b[1;31mIndentationError\u001b[0m\u001b[1;31m:\u001b[0m unindent does not match any outer indentation level\n"
     ]
    }
   ],
   "source": [
    "if True:\n",
    "                print(\"sukces\")\n",
    "            print(\"sukces2\")"
   ]
  },
  {
   "cell_type": "code",
   "execution_count": 6,
   "metadata": {},
   "outputs": [],
   "source": [
    "# Użycie warunku False spowoduje, że kod nie wywoła się nigdy\n",
    "if False:\n",
    "    print(\"Sukces\")"
   ]
  },
  {
   "cell_type": "markdown",
   "metadata": {},
   "source": [
    "W intrukcjach warunkowych możemy użyć wiele rodzajów warunków. Oto kilka z nich:\n",
    "1. \"==\" - czy wyrażenie jest równe\n",
    "2. \"<\" / \"<=\" - czy wyrażenie jest mniejsze / mniejsze lub równe\n",
    "3. \">\" / \">=\" - czy wyrażenie jest większe / większe lub równe\n",
    "\n",
    "Zbadamy teraz czy wprowadzona liczba jest parzysta i wydrukujemy na ekranie odpowiedni komunikat"
   ]
  },
  {
   "cell_type": "code",
   "execution_count": 7,
   "metadata": {},
   "outputs": [],
   "source": [
    "a = 5"
   ]
  },
  {
   "cell_type": "code",
   "execution_count": 8,
   "metadata": {},
   "outputs": [
    {
     "data": {
      "text/plain": [
       "False"
      ]
     },
     "execution_count": 8,
     "metadata": {},
     "output_type": "execute_result"
    }
   ],
   "source": [
    "a % 2 == 0"
   ]
  },
  {
   "cell_type": "code",
   "execution_count": 12,
   "metadata": {},
   "outputs": [],
   "source": [
    "a = 8.5\n",
    "if a % 2 == 0:\n",
    "    print(\"Liczba parzysta\")\n",
    "elif a % 2 == 1:\n",
    "    print(\"Liczba nieparzysta\")"
   ]
  },
  {
   "cell_type": "code",
   "execution_count": 13,
   "metadata": {},
   "outputs": [
    {
     "name": "stdout",
     "output_type": "stream",
     "text": [
      "Liczba nieparzysta\n"
     ]
    }
   ],
   "source": [
    "a = 8.5\n",
    "if a % 2 == 0:\n",
    "    print(\"Liczba parzysta\")\n",
    "else:\n",
    "    print(\"Liczba nieparzysta\")"
   ]
  },
  {
   "cell_type": "code",
   "execution_count": 14,
   "metadata": {},
   "outputs": [
    {
     "name": "stdout",
     "output_type": "stream",
     "text": [
      "Niepoprawna liczba\n"
     ]
    }
   ],
   "source": [
    "# dodamy warunek else w ramach zabezpieczenia\n",
    "a = 8.5\n",
    "if a % 2 == 0:\n",
    "    print(\"Liczba parzysta\")\n",
    "elif a % 2 == 1:\n",
    "    print(\"Liczba nieparzysta\")\n",
    "else:\n",
    "    print(\"Niepoprawna liczba\")"
   ]
  },
  {
   "cell_type": "markdown",
   "metadata": {},
   "source": [
    "Napiszemy teraz instrukcję warunkową, sprawdzającą czy podano pusty ciąg znaków"
   ]
  },
  {
   "cell_type": "code",
   "execution_count": 16,
   "metadata": {},
   "outputs": [],
   "source": [
    "wyraz = \"\""
   ]
  },
  {
   "cell_type": "code",
   "execution_count": 17,
   "metadata": {},
   "outputs": [
    {
     "name": "stdout",
     "output_type": "stream",
     "text": [
      "Pusty ciag znakow\n"
     ]
    }
   ],
   "source": [
    "if len(wyraz) >0:\n",
    "    print(\"Wprowadziles wyraz\")\n",
    "else:\n",
    "    print(\"Pusty ciag znakow\")"
   ]
  },
  {
   "cell_type": "code",
   "execution_count": 18,
   "metadata": {},
   "outputs": [],
   "source": [
    "wyraz = 'wyraz'"
   ]
  },
  {
   "cell_type": "code",
   "execution_count": 21,
   "metadata": {},
   "outputs": [],
   "source": [
    "wyraz = 3"
   ]
  },
  {
   "cell_type": "code",
   "execution_count": 22,
   "metadata": {},
   "outputs": [
    {
     "name": "stdout",
     "output_type": "stream",
     "text": [
      "Niepoprawna zmienna\n"
     ]
    }
   ],
   "source": [
    "if type(wyraz) != str:\n",
    "    print(\"Niepoprawna zmienna\")\n",
    "elif len(wyraz) >0:\n",
    "    print(\"Wprowadziles wyraz\")\n",
    "else:\n",
    "    print(\"Pusty ciag znakow\")"
   ]
  },
  {
   "cell_type": "markdown",
   "metadata": {},
   "source": [
    "## Rozbudowane warunki logiczne\n",
    "\n",
    "W instrukcjach warunkowych możemy używać rozbudowanych warunków logicznych.\n",
    "Warunki łączymy poleceniami:\n",
    "1. and - zwróci True tylko, jeżeli wszystkie warunki będą spełnione.\n",
    "2. or - zwróci True, jeżeli przynajmniej jeden warunek będzie spełniony.\n",
    "\n",
    "And i or można interpretować jako mnożenie i dodawanie w matematyce. Jeżeli używamy w danym zestawie warunków and i or zastanówmy się czy nie należy użyć nawiasów, ponieważ warunki te będą działać zgodnie z kolejnością wykonywania działań."
   ]
  },
  {
   "cell_type": "code",
   "execution_count": 23,
   "metadata": {},
   "outputs": [
    {
     "name": "stdout",
     "output_type": "stream",
     "text": [
      "0.25\n"
     ]
    }
   ],
   "source": [
    "# Liczenie potęgi a^n \n",
    "a = 2\n",
    "n = -2\n",
    "if type(a)==str or type(n)== str:\n",
    "    print(\"Niepoprawny typ danych wejściowych\")\n",
    "else:\n",
    "    print(a**n)"
   ]
  },
  {
   "cell_type": "markdown",
   "metadata": {},
   "source": [
    "Napiszemy kod, który wyznaczy kategorię wynagrodzenia:\n",
    "1. Jeżeli pensja <0 zwróci komunikat o niepoprawnej wartości\n",
    "2. Jeżeli pensja <5000 zwróci wartość \"niskie wynagrodzenie\"\n",
    "3. Jeżeli pensja będzie pomiędzy 5000 a 8000 zwróci \"przeciętne wynagrodzenie\"\n",
    "4. Jeżeli pensja >8000 zwróci \"wysokie wynagrodzenie\"\n"
   ]
  },
  {
   "cell_type": "code",
   "execution_count": 24,
   "metadata": {},
   "outputs": [],
   "source": [
    "pensja = 4000\n",
    "\n",
    "if pensja <0:\n",
    "    print(f\"Pensja nie moze wynosic {pensja}\")\n",
    "elif pensja < 5000:\n",
    "    pensja_kat = 'niskie wynagrodzenie'\n",
    "elif pensja <=8000:\n",
    "    pensja_kat = 'przecietne wynagrodzenie'\n",
    "elif pensja >8000:\n",
    "    pensja_kat = 'wysokie wynagrodzenie'\n"
   ]
  },
  {
   "cell_type": "code",
   "execution_count": 25,
   "metadata": {},
   "outputs": [
    {
     "data": {
      "text/plain": [
       "'niskie wynagrodzenie'"
      ]
     },
     "execution_count": 25,
     "metadata": {},
     "output_type": "execute_result"
    }
   ],
   "source": [
    "pensja_kat"
   ]
  },
  {
   "cell_type": "code",
   "execution_count": 26,
   "metadata": {},
   "outputs": [],
   "source": [
    "if pensja <0:\n",
    "    print(f\"Pensja nie moze wynosic {pensja}\")\n",
    "elif pensja >= 0 and pensja < 5000:\n",
    "    pensja_kat_2 = 'niskie wynagrodzenie'\n",
    "elif pensja >= 5000 and pensja <=8000:\n",
    "    pensja_kat_2 = 'przecietne wynagrodzenie'\n",
    "elif pensja >8000:\n",
    "    pensja_kat_2 = 'wysokie wynagrodzenie'"
   ]
  },
  {
   "cell_type": "code",
   "execution_count": 27,
   "metadata": {},
   "outputs": [
    {
     "data": {
      "text/plain": [
       "True"
      ]
     },
     "execution_count": 27,
     "metadata": {},
     "output_type": "execute_result"
    }
   ],
   "source": [
    "pensja_kat_2 == pensja_kat"
   ]
  },
  {
   "cell_type": "markdown",
   "metadata": {},
   "source": [
    "Wykorzystamy teraz wynik z poprzedniej instrukcji. Jeżeli pracownik ma niskie lub przecietne wynagrodzenie i jego staż pracy wynosi co najmniej 2 lata, zwrócona zostanie rekomendacja podwyżki."
   ]
  },
  {
   "cell_type": "code",
   "execution_count": 28,
   "metadata": {},
   "outputs": [],
   "source": [
    "staz = 3"
   ]
  },
  {
   "cell_type": "code",
   "execution_count": 29,
   "metadata": {},
   "outputs": [
    {
     "name": "stdout",
     "output_type": "stream",
     "text": [
      "rekomendujemy podwyzke\n"
     ]
    }
   ],
   "source": [
    "if (pensja_kat=='niskie wynagrodzenie' or pensja_kat== 'przecietne wynagrodzenie') and staz >=2:\n",
    "    print(\"rekomendujemy podwyzke\")\n",
    "else:\n",
    "    print(\"Brak rekomendacji podwyzki\")"
   ]
  },
  {
   "cell_type": "markdown",
   "metadata": {},
   "source": [
    "Sprawdzenie czy dana zmienna jest częścią innej można sprawdzić używając polecenia <i> in </i>.\n",
    "\n",
    "Możemy nim sprawdzić czy zmienna jest elementem listy bądź czy dany znak występuje w ciągu."
   ]
  },
  {
   "cell_type": "code",
   "execution_count": 30,
   "metadata": {},
   "outputs": [
    {
     "data": {
      "text/plain": [
       "True"
      ]
     },
     "execution_count": 30,
     "metadata": {},
     "output_type": "execute_result"
    }
   ],
   "source": [
    "# Sprawdźmy czy litera 'a' znajduje się w ciągu znaków\n",
    "'a' in 'abcde'"
   ]
  },
  {
   "cell_type": "code",
   "execution_count": 31,
   "metadata": {},
   "outputs": [
    {
     "name": "stdout",
     "output_type": "stream",
     "text": [
      "rekomendujemy podwyzke\n"
     ]
    }
   ],
   "source": [
    "# Jeszcze raz napiszemy instrukcję rekomendacji podwyżki, ale tym razem z uzyciem listy\n",
    "wynagrodzenia_kat_podwyzka = ['niskie wynagrodzenie', 'przecietne wynagrodzenie']\n",
    "\n",
    "if pensja_kat in wynagrodzenia_kat_podwyzka and staz >=2:\n",
    "    print(\"rekomendujemy podwyzke\")\n",
    "else:\n",
    "    print(\"brak rekomendacji podwyzki\")"
   ]
  },
  {
   "cell_type": "markdown",
   "metadata": {},
   "source": [
    "Dla ciągu znaków możemy sprawdzić inne warunki, za pomocą metod:\n",
    "\n",
    "1. startswith(xyz) - sprawdzenie czy ciąg rozpoczyna się od znaków 'xyz'\n",
    "2. endswith(xyz) - sprawdzenie czy ciąg kończy się znakami 'xyz'\n"
   ]
  },
  {
   "cell_type": "code",
   "execution_count": 32,
   "metadata": {},
   "outputs": [
    {
     "data": {
      "text/plain": [
       "True"
      ]
     },
     "execution_count": 32,
     "metadata": {},
     "output_type": "execute_result"
    }
   ],
   "source": [
    "pensja_kat.startswith('niskie')"
   ]
  },
  {
   "cell_type": "code",
   "execution_count": 33,
   "metadata": {},
   "outputs": [
    {
     "data": {
      "text/plain": [
       "True"
      ]
     },
     "execution_count": 33,
     "metadata": {},
     "output_type": "execute_result"
    }
   ],
   "source": [
    "pensja_kat.endswith('enie')"
   ]
  },
  {
   "cell_type": "markdown",
   "metadata": {},
   "source": [
    "### Modyfikacje ciągu znaków"
   ]
  },
  {
   "cell_type": "code",
   "execution_count": 35,
   "metadata": {},
   "outputs": [
    {
     "data": {
      "text/plain": [
       "'niska pensja'"
      ]
     },
     "execution_count": 35,
     "metadata": {},
     "output_type": "execute_result"
    }
   ],
   "source": [
    "# Zmiana ciągu znaków \n",
    "pensja_kat = pensja_kat.replace('wynagrodzenie','pensja')\n",
    "pensja_kat = pensja_kat.replace('ie','a')\n",
    "pensja_kat"
   ]
  },
  {
   "cell_type": "code",
   "execution_count": 36,
   "metadata": {},
   "outputs": [
    {
     "data": {
      "text/plain": [
       "'NISKA PENSJA'"
      ]
     },
     "execution_count": 36,
     "metadata": {},
     "output_type": "execute_result"
    }
   ],
   "source": [
    "pensja_kat.upper()"
   ]
  },
  {
   "cell_type": "code",
   "execution_count": 37,
   "metadata": {},
   "outputs": [
    {
     "data": {
      "text/plain": [
       "'Niska pensja'"
      ]
     },
     "execution_count": 37,
     "metadata": {},
     "output_type": "execute_result"
    }
   ],
   "source": [
    "pensja_kat.capitalize()"
   ]
  },
  {
   "cell_type": "code",
   "execution_count": 38,
   "metadata": {},
   "outputs": [
    {
     "data": {
      "text/plain": [
       "'niska pensja'"
      ]
     },
     "execution_count": 38,
     "metadata": {},
     "output_type": "execute_result"
    }
   ],
   "source": [
    "pensja_kat.upper().lower()"
   ]
  },
  {
   "cell_type": "code",
   "execution_count": 39,
   "metadata": {},
   "outputs": [
    {
     "data": {
      "text/plain": [
       "6"
      ]
     },
     "execution_count": 39,
     "metadata": {},
     "output_type": "execute_result"
    }
   ],
   "source": [
    "# Sprawdzenie pozycji podciągu (pierwszego znaku z podciągu) w ciągu. \n",
    "pensja_kat.find('pensja')"
   ]
  }
 ],
 "metadata": {
  "kernelspec": {
   "display_name": "Python 3",
   "language": "python",
   "name": "python3"
  },
  "language_info": {
   "codemirror_mode": {
    "name": "ipython",
    "version": 3
   },
   "file_extension": ".py",
   "mimetype": "text/x-python",
   "name": "python",
   "nbconvert_exporter": "python",
   "pygments_lexer": "ipython3",
   "version": "3.12.5"
  }
 },
 "nbformat": 4,
 "nbformat_minor": 2
}
