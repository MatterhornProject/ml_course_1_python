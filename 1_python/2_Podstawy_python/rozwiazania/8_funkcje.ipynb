{
 "cells": [
  {
   "cell_type": "markdown",
   "metadata": {},
   "source": [
    "# Funkcje\n",
    "\n",
    "Funkcje są to kody, które chcemy wykorzystać ponownie, bez kopiowania/ pisania całej operacji od początku.\n",
    "Do tej pory korzystaliśmy z wielu wbudowanych funkcji, np. round.\n",
    "Teraz nauczymy się tworzyć własne.\n",
    "\n",
    "```python\n",
    "def nazwa_funkcji(argumenty):\n",
    "    kod funkcji\n",
    "    return zmienna\n",
    "```\n",
    "Funkcja może zwracać wartości lub manipulować argumentami."
   ]
  },
  {
   "cell_type": "code",
   "execution_count": 1,
   "metadata": {},
   "outputs": [],
   "source": [
    "# wyznaczenie szescianow wartości z listy\n",
    "def szczescian_lista(lista):\n",
    "    return [i ** 3 for i in lista]\n",
    "\n",
    "# nazwy argumentów funkcji można używać tylko w jej wnętrzu"
   ]
  },
  {
   "cell_type": "code",
   "execution_count": 2,
   "metadata": {},
   "outputs": [
    {
     "data": {
      "text/plain": [
       "[1, 8, 27]"
      ]
     },
     "execution_count": 2,
     "metadata": {},
     "output_type": "execute_result"
    }
   ],
   "source": [
    "# wywołanie funkcji\n",
    "szczescian_lista([1,2,3])"
   ]
  },
  {
   "cell_type": "code",
   "execution_count": 3,
   "metadata": {},
   "outputs": [
    {
     "data": {
      "text/plain": [
       "[1, 8, 27]"
      ]
     },
     "execution_count": 3,
     "metadata": {},
     "output_type": "execute_result"
    }
   ],
   "source": [
    "szesciany = szczescian_lista([1,2,3])\n",
    "szesciany"
   ]
  },
  {
   "cell_type": "code",
   "execution_count": 4,
   "metadata": {},
   "outputs": [],
   "source": [
    "# Funkcja z modyfikacją wejściowego argumentu\n",
    "def dodanie_wartosci(lista, wartosc):\n",
    "    lista.append(wartosc)"
   ]
  },
  {
   "cell_type": "code",
   "execution_count": 5,
   "metadata": {},
   "outputs": [],
   "source": [
    "l_1 = [5,10,23]\n",
    "dodanie_wartosci(wartosc='cos',lista= l_1)\n"
   ]
  },
  {
   "cell_type": "code",
   "execution_count": 6,
   "metadata": {},
   "outputs": [
    {
     "data": {
      "text/plain": [
       "[5, 10, 23, 'cos']"
      ]
     },
     "execution_count": 6,
     "metadata": {},
     "output_type": "execute_result"
    }
   ],
   "source": [
    "l_1"
   ]
  },
  {
   "cell_type": "code",
   "execution_count": 7,
   "metadata": {},
   "outputs": [],
   "source": [
    "# Obsługa błędów\n",
    "def szczescian_lista(lista):\n",
    "    if len(lista) == 0:\n",
    "        raise Exception(\"Podana lista jest pusta.\")\n",
    "    return [i ** 3 for i in lista]\n"
   ]
  },
  {
   "cell_type": "code",
   "execution_count": 8,
   "metadata": {},
   "outputs": [
    {
     "ename": "Exception",
     "evalue": "Podana lista jest pusta.",
     "output_type": "error",
     "traceback": [
      "\u001b[1;31m---------------------------------------------------------------------------\u001b[0m",
      "\u001b[1;31mException\u001b[0m                                 Traceback (most recent call last)",
      "Cell \u001b[1;32mIn[8], line 1\u001b[0m\n\u001b[1;32m----> 1\u001b[0m \u001b[43mszczescian_lista\u001b[49m\u001b[43m(\u001b[49m\u001b[43m[\u001b[49m\u001b[43m]\u001b[49m\u001b[43m)\u001b[49m\n",
      "Cell \u001b[1;32mIn[7], line 4\u001b[0m, in \u001b[0;36mszczescian_lista\u001b[1;34m(lista)\u001b[0m\n\u001b[0;32m      2\u001b[0m \u001b[38;5;28;01mdef\u001b[39;00m \u001b[38;5;21mszczescian_lista\u001b[39m(lista):\n\u001b[0;32m      3\u001b[0m     \u001b[38;5;28;01mif\u001b[39;00m \u001b[38;5;28mlen\u001b[39m(lista) \u001b[38;5;241m==\u001b[39m \u001b[38;5;241m0\u001b[39m:\n\u001b[1;32m----> 4\u001b[0m         \u001b[38;5;28;01mraise\u001b[39;00m \u001b[38;5;167;01mException\u001b[39;00m(\u001b[38;5;124m\"\u001b[39m\u001b[38;5;124mPodana lista jest pusta.\u001b[39m\u001b[38;5;124m\"\u001b[39m)\n\u001b[0;32m      5\u001b[0m     \u001b[38;5;28;01mreturn\u001b[39;00m [i \u001b[38;5;241m*\u001b[39m\u001b[38;5;241m*\u001b[39m \u001b[38;5;241m3\u001b[39m \u001b[38;5;28;01mfor\u001b[39;00m i \u001b[38;5;129;01min\u001b[39;00m lista]\n",
      "\u001b[1;31mException\u001b[0m: Podana lista jest pusta."
     ]
    }
   ],
   "source": [
    "szczescian_lista([])"
   ]
  },
  {
   "cell_type": "markdown",
   "metadata": {},
   "source": [
    "## Parametry defaultowe\n",
    "W funkcji możemy zdefiniować domyslne wartości argumentów, w sytuacji kiedy nie zostaną podane.\n",
    "\n"
   ]
  },
  {
   "cell_type": "code",
   "execution_count": 9,
   "metadata": {},
   "outputs": [
    {
     "ename": "SyntaxError",
     "evalue": "parameter without a default follows parameter with a default (313566800.py, line 2)",
     "output_type": "error",
     "traceback": [
      "\u001b[1;36m  Cell \u001b[1;32mIn[9], line 2\u001b[1;36m\u001b[0m\n\u001b[1;33m    def szczescian_lista(lista = [1,2,3], wartosc):\u001b[0m\n\u001b[1;37m                                          ^\u001b[0m\n\u001b[1;31mSyntaxError\u001b[0m\u001b[1;31m:\u001b[0m parameter without a default follows parameter with a default\n"
     ]
    }
   ],
   "source": [
    "# Dodanie parametrów defaultowych do funkcji szescian\n",
    "# Argumenty bez defaultu muszą być na początku, a potem argumenty z defaultem\n",
    "def szczescian_lista(lista = [1,2,3], wartosc):\n",
    "    if len(lista) == 0:\n",
    "        raise Exception(\"Podana lista jest pusta.\")\n",
    "    return [i ** 3 for i in lista]"
   ]
  },
  {
   "cell_type": "code",
   "execution_count": 10,
   "metadata": {},
   "outputs": [],
   "source": [
    "def szczescian_lista(lista = [1,2,3]):\n",
    "    if len(lista) == 0:\n",
    "        raise Exception(\"Podana lista jest pusta.\")\n",
    "    return [i ** 3 for i in lista]"
   ]
  },
  {
   "cell_type": "code",
   "execution_count": 11,
   "metadata": {},
   "outputs": [
    {
     "data": {
      "text/plain": [
       "[1, 8, 27]"
      ]
     },
     "execution_count": 11,
     "metadata": {},
     "output_type": "execute_result"
    }
   ],
   "source": [
    "szczescian_lista()"
   ]
  },
  {
   "cell_type": "markdown",
   "metadata": {},
   "source": [
    "## Dobre praktyki\n",
    "\n",
    "W ramach dobrych praktyk przy definiowaniu funkcji powinniśmy dodać:\n",
    "1. docstring - opis funkcji z wytłumaczeniem jej parametrów\n",
    "2. typy argumentów wejściowych.\n",
    "3. typ zwracanej zmiennej."
   ]
  },
  {
   "cell_type": "code",
   "execution_count": 14,
   "metadata": {},
   "outputs": [],
   "source": [
    "def szescian_lista_2(lista: list) -> list:\n",
    "    \"\"\" \n",
    "    funkcja zwraca listę o długości listy wejściowej z sześcianami wartości listy\n",
    "\n",
    "    Args:\n",
    "        lista - lista zawierająca liczby, które mają zostać podniesione do potęgi trzeciej\n",
    "    \n",
    "    Return:\n",
    "        Lista sześcianów\n",
    "\n",
    "    Exceptions:\n",
    "        Zwraca błąd, gdy lista jest pusta\n",
    "    \"\"\"\n",
    "    \n",
    "    if len(lista) ==0:\n",
    "        raise Exception('Podales pusta liste')\n",
    "    return  [i **3 for i in lista if type(i) in (float, int)]"
   ]
  },
  {
   "cell_type": "code",
   "execution_count": null,
   "metadata": {},
   "outputs": [],
   "source": [
    "szescian_lista_2()"
   ]
  },
  {
   "cell_type": "code",
   "execution_count": 15,
   "metadata": {},
   "outputs": [],
   "source": [
    "def szescian_lista_3(lista: list = [1,2,3]) -> tuple:\n",
    "    \"\"\" \n",
    "    funkcja zwraca listę o długości listy wejściowej z sześcianami wartości listy\n",
    "\n",
    "    Args:\n",
    "        lista - lista zawierająca liczby, które mają zostać podniesione do potęgi\n",
    "    \n",
    "    Return:\n",
    "        Lista wejsciowa, Lista sześcianów\n",
    "\n",
    "    Exceptions:\n",
    "        Zwraca błąd, gdy lista jest pusta\n",
    "    \"\"\"\n",
    "    \n",
    "    if len(lista) ==0:\n",
    "        raise Exception('Podales pusta liste')\n",
    "    return  lista, [i **3 for i in lista if type(i) in (float, int)]"
   ]
  },
  {
   "cell_type": "code",
   "execution_count": 16,
   "metadata": {},
   "outputs": [
    {
     "data": {
      "text/plain": [
       "([1, 2, 3], [1, 8, 27])"
      ]
     },
     "execution_count": 16,
     "metadata": {},
     "output_type": "execute_result"
    }
   ],
   "source": [
    "szescian_lista_3()"
   ]
  },
  {
   "cell_type": "code",
   "execution_count": 17,
   "metadata": {},
   "outputs": [],
   "source": [
    "wej, wyj = szescian_lista_3()"
   ]
  },
  {
   "cell_type": "code",
   "execution_count": 18,
   "metadata": {},
   "outputs": [
    {
     "data": {
      "text/plain": [
       "[1, 2, 3]"
      ]
     },
     "execution_count": 18,
     "metadata": {},
     "output_type": "execute_result"
    }
   ],
   "source": [
    "wej"
   ]
  },
  {
   "cell_type": "code",
   "execution_count": 19,
   "metadata": {},
   "outputs": [
    {
     "data": {
      "text/plain": [
       "[1, 8, 27]"
      ]
     },
     "execution_count": 19,
     "metadata": {},
     "output_type": "execute_result"
    }
   ],
   "source": [
    "wyj"
   ]
  },
  {
   "cell_type": "markdown",
   "metadata": {},
   "source": [
    "## Skrypt python \n",
    "Przeniesiemy się teraz do skryptu:\n",
    "1_python\\2_Podstawy_python\\8_funkcje_skrypt.py\n",
    "\n",
    "Napiszemy funkcję w skrypcie pythona i sprawdzimy w jaki sposób można ją użyc.\n",
    "\n",
    "Funkcja przyjmie jako argument słownik, którego kluczem będzie ID pracownika, a wartościami wynagrodzenie.\n",
    "\n",
    "Funkcja wyznaczy średnie wynagrodzenie zespołu. Jeżeli wynagrodzenie jest co najmniej 20% niższe niż średnia, zwiększy je o 20%, jeżeli jest między 10 a 20%, zwiększy je o 10%. Dla pozostałych wynagrodzenie pozostanie bez zmian. Funkcja powinna także zwrócić nową średnią wyngrodzeń."
   ]
  },
  {
   "cell_type": "code",
   "execution_count": 1,
   "metadata": {},
   "outputs": [
    {
     "name": "stdout",
     "output_type": "stream",
     "text": [
      "Zaktualizowano wynagrodzenie pracownika o id 1 z 1500 na 1800.0\n",
      "Zaktualizowano wynagrodzenie pracownika o id 2 z 4500 na 5400.0\n",
      "Zaktualizowano wyngardzoenie pracownika o id 10 z 7800 na 8580.0\n",
      "Zaktualizowano place. Poprzednia srednia zespolu wynosila 8760.0.\n",
      " Nowa srednia wynosi 9156.0.\n",
      "{1: 1800.0, 2: 5400.0, 6: 20000, 7: 10000, 10: 8580.0}\n"
     ]
    }
   ],
   "source": [
    "from p8_funkcje_skrypt import aktualizacja_wynagrodzenia"
   ]
  },
  {
   "cell_type": "code",
   "execution_count": 2,
   "metadata": {},
   "outputs": [],
   "source": [
    "wyn = {1: 1500,\n",
    "       2: 4500,\n",
    "       6: 20000,\n",
    "       7: 10000,\n",
    "       10: 7800}"
   ]
  },
  {
   "cell_type": "code",
   "execution_count": 3,
   "metadata": {},
   "outputs": [
    {
     "name": "stdout",
     "output_type": "stream",
     "text": [
      "Zaktualizowano wynagrodzenie pracownika o id 1 z 1500 na 1800.0\n",
      "Zaktualizowano wynagrodzenie pracownika o id 2 z 4500 na 5400.0\n",
      "Zaktualizowano wyngardzoenie pracownika o id 10 z 7800 na 8580.0\n",
      "Zaktualizowano place. Poprzednia srednia zespolu wynosila 8760.0.\n",
      " Nowa srednia wynosi 9156.0.\n"
     ]
    },
    {
     "data": {
      "text/plain": [
       "{1: 1800.0, 2: 5400.0, 6: 20000, 7: 10000, 10: 8580.0}"
      ]
     },
     "execution_count": 3,
     "metadata": {},
     "output_type": "execute_result"
    }
   ],
   "source": [
    "aktualizacja_wynagrodzenia(wyn)"
   ]
  },
  {
   "cell_type": "code",
   "execution_count": 4,
   "metadata": {},
   "outputs": [
    {
     "ename": "Exception",
     "evalue": "Place nie moga byc puste.",
     "output_type": "error",
     "traceback": [
      "\u001b[1;31m---------------------------------------------------------------------------\u001b[0m",
      "\u001b[1;31mException\u001b[0m                                 Traceback (most recent call last)",
      "Cell \u001b[1;32mIn[4], line 1\u001b[0m\n\u001b[1;32m----> 1\u001b[0m \u001b[43maktualizacja_wynagrodzenia\u001b[49m\u001b[43m(\u001b[49m\u001b[43m{\u001b[49m\u001b[43m}\u001b[49m\u001b[43m)\u001b[49m\n",
      "File \u001b[1;32mc:\\dane\\PATRYK\\ml_course\\1_python\\2_Podstawy_python\\p8_funkcje_skrypt.py:14\u001b[0m, in \u001b[0;36maktualizacja_wynagrodzenia\u001b[1;34m(wynagrodzenia)\u001b[0m\n\u001b[0;32m      2\u001b[0m \u001b[38;5;250m\u001b[39m\u001b[38;5;124;03m\"\"\"\u001b[39;00m\n\u001b[0;32m      3\u001b[0m \u001b[38;5;124;03mFunkcja, która aktualizuje niskie wynagrodzenia\u001b[39;00m\n\u001b[0;32m      4\u001b[0m \n\u001b[1;32m   (...)\u001b[0m\n\u001b[0;32m     11\u001b[0m \u001b[38;5;124;03mTypeError - jezeli wartosc w slowniku nie jest liczba.\u001b[39;00m\n\u001b[0;32m     12\u001b[0m \u001b[38;5;124;03m\"\"\"\u001b[39;00m\n\u001b[0;32m     13\u001b[0m \u001b[38;5;28;01mif\u001b[39;00m \u001b[38;5;28mlen\u001b[39m(wynagrodzenia)\u001b[38;5;241m==\u001b[39m\u001b[38;5;241m0\u001b[39m:\n\u001b[1;32m---> 14\u001b[0m     \u001b[38;5;28;01mraise\u001b[39;00m \u001b[38;5;167;01mException\u001b[39;00m(\u001b[38;5;124m\"\u001b[39m\u001b[38;5;124mPlace nie moga byc puste.\u001b[39m\u001b[38;5;124m\"\u001b[39m)\n\u001b[0;32m     15\u001b[0m \u001b[38;5;28;01mfor\u001b[39;00m \u001b[38;5;28mid\u001b[39m, kwota \u001b[38;5;129;01min\u001b[39;00m wynagrodzenia\u001b[38;5;241m.\u001b[39mitems():\n\u001b[0;32m     16\u001b[0m     \u001b[38;5;28;01mif\u001b[39;00m \u001b[38;5;28mtype\u001b[39m(kwota) \u001b[38;5;129;01mnot\u001b[39;00m \u001b[38;5;129;01min\u001b[39;00m (\u001b[38;5;28mfloat\u001b[39m, \u001b[38;5;28mint\u001b[39m):\n",
      "\u001b[1;31mException\u001b[0m: Place nie moga byc puste."
     ]
    }
   ],
   "source": [
    "aktualizacja_wynagrodzenia({})"
   ]
  },
  {
   "cell_type": "code",
   "execution_count": null,
   "metadata": {},
   "outputs": [],
   "source": []
  },
  {
   "cell_type": "code",
   "execution_count": 5,
   "metadata": {},
   "outputs": [],
   "source": [
    "wyn = {1: 1500,\n",
    "       2: 'dwa',\n",
    "       6: 20000,\n",
    "       7: 10000,\n",
    "       10: 7800}"
   ]
  },
  {
   "cell_type": "code",
   "execution_count": 6,
   "metadata": {},
   "outputs": [
    {
     "ename": "TypeError",
     "evalue": "Pracownik o id 2 ma niepoprawna kwote wyngrodzenia.",
     "output_type": "error",
     "traceback": [
      "\u001b[1;31m---------------------------------------------------------------------------\u001b[0m",
      "\u001b[1;31mTypeError\u001b[0m                                 Traceback (most recent call last)",
      "Cell \u001b[1;32mIn[6], line 1\u001b[0m\n\u001b[1;32m----> 1\u001b[0m \u001b[43maktualizacja_wynagrodzenia\u001b[49m\u001b[43m(\u001b[49m\u001b[43mwyn\u001b[49m\u001b[43m)\u001b[49m\n",
      "File \u001b[1;32mc:\\dane\\PATRYK\\ml_course\\1_python\\2_Podstawy_python\\p8_funkcje_skrypt.py:17\u001b[0m, in \u001b[0;36maktualizacja_wynagrodzenia\u001b[1;34m(wynagrodzenia)\u001b[0m\n\u001b[0;32m     15\u001b[0m \u001b[38;5;28;01mfor\u001b[39;00m \u001b[38;5;28mid\u001b[39m, kwota \u001b[38;5;129;01min\u001b[39;00m wynagrodzenia\u001b[38;5;241m.\u001b[39mitems():\n\u001b[0;32m     16\u001b[0m     \u001b[38;5;28;01mif\u001b[39;00m \u001b[38;5;28mtype\u001b[39m(kwota) \u001b[38;5;129;01mnot\u001b[39;00m \u001b[38;5;129;01min\u001b[39;00m (\u001b[38;5;28mfloat\u001b[39m, \u001b[38;5;28mint\u001b[39m):\n\u001b[1;32m---> 17\u001b[0m         \u001b[38;5;28;01mraise\u001b[39;00m \u001b[38;5;167;01mTypeError\u001b[39;00m(\u001b[38;5;124mf\u001b[39m\u001b[38;5;124m'\u001b[39m\u001b[38;5;124mPracownik o id \u001b[39m\u001b[38;5;132;01m{\u001b[39;00m\u001b[38;5;28mid\u001b[39m\u001b[38;5;132;01m}\u001b[39;00m\u001b[38;5;124m ma niepoprawna kwote wyngrodzenia.\u001b[39m\u001b[38;5;124m'\u001b[39m)\n\u001b[0;32m     18\u001b[0m suma \u001b[38;5;241m=\u001b[39m \u001b[38;5;28msum\u001b[39m(wynagrodzenia\u001b[38;5;241m.\u001b[39mvalues())\n\u001b[0;32m     19\u001b[0m srednia \u001b[38;5;241m=\u001b[39m suma \u001b[38;5;241m/\u001b[39m \u001b[38;5;28mlen\u001b[39m(wynagrodzenia)\n",
      "\u001b[1;31mTypeError\u001b[0m: Pracownik o id 2 ma niepoprawna kwote wyngrodzenia."
     ]
    }
   ],
   "source": [
    "aktualizacja_wynagrodzenia(wyn)"
   ]
  }
 ],
 "metadata": {
  "kernelspec": {
   "display_name": "Python 3",
   "language": "python",
   "name": "python3"
  },
  "language_info": {
   "codemirror_mode": {
    "name": "ipython",
    "version": 3
   },
   "file_extension": ".py",
   "mimetype": "text/x-python",
   "name": "python",
   "nbconvert_exporter": "python",
   "pygments_lexer": "ipython3",
   "version": "3.12.5"
  }
 },
 "nbformat": 4,
 "nbformat_minor": 2
}
