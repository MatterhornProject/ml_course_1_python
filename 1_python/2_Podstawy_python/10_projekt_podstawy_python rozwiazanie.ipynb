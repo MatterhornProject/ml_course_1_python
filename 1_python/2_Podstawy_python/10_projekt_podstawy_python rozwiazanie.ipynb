{
 "cells": [
  {
   "cell_type": "markdown",
   "metadata": {},
   "source": [
    "# Projekt - podstawy pythona\n",
    "Napisz funkcję, która wyliczy koszt pracy pracownika.\n",
    "Funkcja powinna przyjąć następujące argumenty:\n",
    "1. liczba przepracowanych godzin podstawowych w miesiącu \n",
    "2. stawka godzinowa lub stawka miesięczna\n",
    "3. liczba nadgodzin (załóżmy, że nadgodziny są płatne 50% więcej niż standardowa godzina)\n",
    "4. liczba godzin na zwolnieniu (płatne 80%)\n",
    "5. Typ wynagrodzenia - godzinowe/miesieczne\n",
    "\n",
    "Jeżeli stawka wynagrodzenia jest godzinowa funkcja powinna zwracać wynagrodzenie wg wzoru \n",
    "\n",
    "$wynagrodzenie = (liczbah- liczbahzwolnienie) * stawka + 1.5 *liczbanadgodzin * stawka + 0.8 * liczbahzwolnienie*stawka$\n",
    "\n",
    "Jeżeli wynagrodzenie jest płatne stawką miesięczną, to wzór będzie następujący:\n",
    "$wynagrodzenie = (1-liczbahzwolnienie/liczbah)* stawka + (stawka / liczbah) * liczbanadgodzin *1.5 + 0.8 * liczbahzwolnienie * stawka/liczbah$\n",
    "\n",
    "Funkcja powinna sprawdzać poprawność wprowadzonych argumentów:\n",
    "1. liczba nadgodzin nie może być większa niż podstawowa liczba godzin w miesiącu\n",
    "2. liczba godzin na zwolnieniu nie może być większa niż podstawowa liczba godzin w miesiącu\n",
    "\n"
   ]
  },
  {
   "cell_type": "code",
   "execution_count": 6,
   "metadata": {},
   "outputs": [],
   "source": [
    "def koszt_pracownika(stawka: float,\n",
    "                     l_h_miesiac: int = 168,\n",
    "                     l_nadgodzin: int = 0,\n",
    "                     l_h_zwolnienie: int = 0,\n",
    "                     wynagrodzenie_typ: str = 'godzinowe') -> float:\n",
    "    \"\"\"\n",
    "    Funkcja wyliczająca wynagrodzenie w miesiacu.\n",
    "\n",
    "    Args:\n",
    "        stawka: liczba przepracowanych godzin podstawowych w miesiącu \n",
    "        l_h_miesiac: stawka godzinowa lub stawka miesięczna\n",
    "        l_nadgodzin: liczba nadgodzin (załóżmy, że nadgodziny są płatne 50% więcej niż standardowa godzina)\n",
    "        l_h_zwolnienie: liczba godzin na zwolnieniu (płatne 80%)\n",
    "        wynagrodzeine_typ: Typ wynagrodzenia - godzinowe/\n",
    "    Return:\n",
    "        kwota do wypłaty\n",
    "    Exceptions:\n",
    "    exception 1: Blad jeżeli niedozwolony typ wynagrodzenia\n",
    "    exception 2: Błąd jeżeli liczba godzin <=0\n",
    "    exception 3-4: Błąd jeżeli liczba nadgodzin / godzin na zwolnieniu <0.\n",
    "\n",
    "    \"\"\"\n",
    "    wynagrodzenia_typy = ['godzinowe','miesieczne']\n",
    "    if wynagrodzenie_typ not in wynagrodzenia_typy:\n",
    "        raise Exception(f\"Niedozwolony typ wynagrodzenia. Dozwolone typy to: {wynagrodzenia_typy}.\")\n",
    "    if l_nadgodzin > l_h_miesiac:\n",
    "        raise Exception ('Liczba nadgodzin przkeracza dopuszczalną normę.')\n",
    "    if l_h_zwolnienie > l_h_miesiac:\n",
    "        raise Exception('Liczba godzin na zwolnieniu nie moze przekraczac całkowitej liczby godzin w miesiącu.')\n",
    "    if l_h_miesiac <= 0:\n",
    "        raise Exception('Liczba godzin w miesiacu musi być dodatnia.')\n",
    "    if l_nadgodzin < 0:\n",
    "        raise Exception('Liczba nadgodzin w miesiacu nie może być ujemna.')\n",
    "    if l_h_zwolnienie < 0:\n",
    "        raise Exception('Liczba godzin na zwolnieniu w miesiacu nie może być ujemna.')\n",
    "    if wynagrodzenie_typ=='godzinowe':\n",
    "        wynagrodzenie = round(stawka * ((l_h_miesiac - l_h_zwolnienie) + 1.5 * l_nadgodzin + 0.8 * l_h_zwolnienie),2)\n",
    "    elif wynagrodzenie_typ == 'miesieczne':\n",
    "        wynagrodzenie = round(stawka * ((1- l_h_zwolnienie/l_h_miesiac)+ 1.5 * 1/l_h_miesiac * l_nadgodzin + 0.8 * l_h_zwolnienie * 1/l_h_miesiac),2)\n",
    "    return wynagrodzenie"
   ]
  },
  {
   "cell_type": "code",
   "execution_count": 7,
   "metadata": {},
   "outputs": [
    {
     "data": {
      "text/plain": [
       "20000.0"
      ]
     },
     "execution_count": 7,
     "metadata": {},
     "output_type": "execute_result"
    }
   ],
   "source": [
    "koszt_pracownika(20000,\n",
    "                wynagrodzenie_typ='miesieczne')"
   ]
  },
  {
   "cell_type": "code",
   "execution_count": null,
   "metadata": {},
   "outputs": [],
   "source": [
    "koszt_pracownika(20000, wynagrodzenie_typ='miesieczne', l_nadgodzin=10)"
   ]
  }
 ],
 "metadata": {
  "kernelspec": {
   "display_name": "Python 3",
   "language": "python",
   "name": "python3"
  },
  "language_info": {
   "codemirror_mode": {
    "name": "ipython",
    "version": 3
   },
   "file_extension": ".py",
   "mimetype": "text/x-python",
   "name": "python",
   "nbconvert_exporter": "python",
   "pygments_lexer": "ipython3",
   "version": "3.11.1"
  }
 },
 "nbformat": 4,
 "nbformat_minor": 2
}
