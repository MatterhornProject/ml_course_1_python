{
 "cells": [
  {
   "cell_type": "markdown",
   "metadata": {},
   "source": [
    "# Projekt - podstawy pythona\n",
    "Napisz funkcję, która wyliczy koszt pracy pracownika.\n",
    "Funkcja powinna przyjąć następujące argumenty:\n",
    "1. liczba przepracowanych godzin podstawowych w miesiącu \n",
    "2. stawka godzinowa lub stawka miesięczna\n",
    "3. liczba nadgodzin (załóżmy, że nadgodziny są płatne 50% więcej niż standardowa godzina)\n",
    "4. liczba godzin na zwolnieniu (płatne 80%)\n",
    "5. Typ wynagrodzenia - godzinowe/miesieczne\n",
    "\n",
    "Jeżeli stawka wynagrodzenia jest godzinowa funkcja powinna zwracać wynagrodzenie wg wzoru \n",
    "\n",
    "$wynagrodzenie = (liczbah- liczbahzwolnienie) * stawka + 1.5 *liczbanadgodzin * stawka + 0.8 * liczbahzwolnienie*stawka$\n",
    "\n",
    "Jeżeli wynagrodzenie jest płatne stawką miesięczną, to wzór będzie następujący:\n",
    "$wynagrodzenie = (1-liczbahzwolnienie/liczbah)* stawka + (stawka / liczbah) * liczbanadgodzin *1.5 + 0.8 * liczbahzwolnienie * stawka/liczbah$\n",
    "\n",
    "Funkcja powinna sprawdzać poprawność wprowadzonych argumentów:\n",
    "1. liczba nadgodzin nie może być większa niż podstawowa liczba godzin w miesiącu\n",
    "2. liczba godzin na zwolnieniu nie może być większa niż podstawowa liczba godzin w miesiącu\n",
    "\n"
   ]
  },
  {
   "cell_type": "code",
   "execution_count": 1,
   "metadata": {},
   "outputs": [],
   "source": []
  },
  {
   "cell_type": "code",
   "execution_count": null,
   "metadata": {},
   "outputs": [],
   "source": []
  },
  {
   "cell_type": "code",
   "execution_count": null,
   "metadata": {},
   "outputs": [],
   "source": []
  }
 ],
 "metadata": {
  "kernelspec": {
   "display_name": "Python 3",
   "language": "python",
   "name": "python3"
  },
  "language_info": {
   "codemirror_mode": {
    "name": "ipython",
    "version": 3
   },
   "file_extension": ".py",
   "mimetype": "text/x-python",
   "name": "python",
   "nbconvert_exporter": "python",
   "pygments_lexer": "ipython3",
   "version": "3.12.5"
  }
 },
 "nbformat": 4,
 "nbformat_minor": 2
}
