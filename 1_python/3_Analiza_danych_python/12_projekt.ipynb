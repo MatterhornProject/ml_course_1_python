{
 "cells": [
  {
   "cell_type": "markdown",
   "metadata": {},
   "source": [
    "# Projekt - analiza danych\n",
    "\n",
    "Zbiór do analizy: https://www.kaggle.com/datasets/ihelon/coffee-sales\n",
    "\n",
    "Zbiór dotyczy sprzedaży gorących napojów w automacie. Zawiera poszczególne transakcje. \n",
    "Zadanie polega na przeprowadzeniu podsumowania sprzedaży:\n",
    "\n",
    "0. Dokonaj wstępnej oceny zbioru: jakie mamy zmienne, za jaki okres mamy dane, podstawowe statystyki.\n",
    "1. Wykres sumy sprzedaży w poszczególnych dniach.\n",
    "2. Wykres sumy sprzedaży w poszczególnych dniach - w podziale na płatności kartą i gotówką.\n",
    "3. Zbadanie udziału sprzedaży kartą (w sztukach i kwocie) w poszczególnych dniach.\n",
    "4. Znalezienie pory dnia (godzin) z najwyższą i najniższą średnią sprzedażą. \n",
    "5. Znalezienie dnia miesiąca z najwyższą i najniższą średnią sprzedażą. \n",
    "6. *Czy sprzedaż w weekend jest wyższa od sprzedaży w tygodniu? "
   ]
  },
  {
   "cell_type": "code",
   "execution_count": 39,
   "metadata": {},
   "outputs": [],
   "source": [
    "# Import bibliotek\n",
    "import pandas as pd \n",
    "import matplotlib.pyplot as plt\n",
    "import seaborn as sns\n",
    "import plotly.express as px"
   ]
  },
  {
   "cell_type": "code",
   "execution_count": 7,
   "metadata": {},
   "outputs": [],
   "source": [
    "# Wczytanie zbioru\n",
    "df = pd.read_csv('data/coffee_sales.csv')\n",
    "df['date'] = pd.to_datetime(df['date'])\n",
    "df['datetime'] = pd.to_datetime(df['datetime'])"
   ]
  },
  {
   "cell_type": "code",
   "execution_count": null,
   "metadata": {},
   "outputs": [],
   "source": [
    "# Przykład użycia kolumn datetime\n",
    "# dzien\n",
    "df['datetime'].dt.day"
   ]
  },
  {
   "cell_type": "code",
   "execution_count": null,
   "metadata": {},
   "outputs": [],
   "source": [
    "# Przykład użycia kolumn datetime\n",
    "# dzien\n",
    "df['datetime'].dt.month"
   ]
  },
  {
   "cell_type": "code",
   "execution_count": null,
   "metadata": {},
   "outputs": [],
   "source": [
    "# Przykład użycia kolumn datetime\n",
    "# dzien\n",
    "df['datetime'].dt.hour"
   ]
  },
  {
   "cell_type": "markdown",
   "metadata": {},
   "source": [
    "## 0. Dokonaj wstępnej oceny zbioru: jakie mamy zmienne, za jaki okres mamy dane, podstawowe statystyki."
   ]
  },
  {
   "cell_type": "code",
   "execution_count": null,
   "metadata": {},
   "outputs": [],
   "source": []
  },
  {
   "cell_type": "markdown",
   "metadata": {},
   "source": [
    "## 1. Wykres sumy sprzedaży w poszczególnych dniach."
   ]
  },
  {
   "cell_type": "code",
   "execution_count": null,
   "metadata": {},
   "outputs": [],
   "source": []
  },
  {
   "cell_type": "markdown",
   "metadata": {},
   "source": [
    "## 2. Wykres sumy sprzedaży w poszczególnych dniach - w podziale na płatności kartą i gotówką."
   ]
  },
  {
   "cell_type": "code",
   "execution_count": null,
   "metadata": {},
   "outputs": [],
   "source": []
  },
  {
   "cell_type": "markdown",
   "metadata": {},
   "source": [
    "## 3. Zbadanie udziału sprzedaży kartą (w sztukach i kwocie) w poszczególnych dniach."
   ]
  },
  {
   "cell_type": "code",
   "execution_count": null,
   "metadata": {},
   "outputs": [],
   "source": []
  },
  {
   "cell_type": "markdown",
   "metadata": {},
   "source": [
    "## 4. Znalezienie pory dnia (godzin) z najwyższą i najniższą średnią sprzedażą."
   ]
  },
  {
   "cell_type": "code",
   "execution_count": 45,
   "metadata": {},
   "outputs": [],
   "source": [
    "\n"
   ]
  },
  {
   "cell_type": "markdown",
   "metadata": {},
   "source": [
    "## 5. Znalezienie dnia miesiąca z najwyższą i najniższą średnią sprzedażą. "
   ]
  },
  {
   "cell_type": "code",
   "execution_count": 59,
   "metadata": {},
   "outputs": [],
   "source": [
    "\n"
   ]
  },
  {
   "cell_type": "markdown",
   "metadata": {},
   "source": [
    "## 6. Czy sprzedaż w weekend jest wyższa od sprzedaży w tygodniu? "
   ]
  },
  {
   "cell_type": "code",
   "execution_count": 67,
   "metadata": {},
   "outputs": [],
   "source": []
  }
 ],
 "metadata": {
  "kernelspec": {
   "display_name": "Python 3",
   "language": "python",
   "name": "python3"
  },
  "language_info": {
   "codemirror_mode": {
    "name": "ipython",
    "version": 3
   },
   "file_extension": ".py",
   "mimetype": "text/x-python",
   "name": "python",
   "nbconvert_exporter": "python",
   "pygments_lexer": "ipython3",
   "version": "3.12.5"
  }
 },
 "nbformat": 4,
 "nbformat_minor": 2
}
