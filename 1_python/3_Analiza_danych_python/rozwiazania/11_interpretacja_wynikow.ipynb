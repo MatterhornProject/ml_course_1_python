{
 "cells": [
  {
   "cell_type": "markdown",
   "metadata": {},
   "source": [
    "# Interpretacja wyników i analiza danych\n",
    "\n",
    "Do tej pory poznaliśmy narzędzia wykorzystywane w analizie danych. \n",
    "Tym razem skupimy się na analizie zbioru ocen i określimy, które czynniki mają wpływ na ocenę i średnią.\n",
    "\n",
    "Zbiór danych do analizy: https://www.kaggle.com/datasets/rabieelkharoua/students-performance-dataset"
   ]
  },
  {
   "cell_type": "code",
   "execution_count": 1,
   "metadata": {},
   "outputs": [],
   "source": [
    "# załadownaie pakietów\n",
    "import pandas as pd\n",
    "import numpy as np\n",
    "import matplotlib.pyplot as plt\n",
    "import seaborn as sns"
   ]
  },
  {
   "cell_type": "code",
   "execution_count": 2,
   "metadata": {},
   "outputs": [],
   "source": [
    "# puść ten kod, \n",
    "# jeżeli wywołujesz plik  w folderze rozwiąznaia, \n",
    "# a ramka danych znajduje się w folderze data\n",
    "import os \n",
    "os.chdir('../')"
   ]
  },
  {
   "cell_type": "code",
   "execution_count": 3,
   "metadata": {},
   "outputs": [],
   "source": [
    "# Wczytanie zbioru\n",
    "df = pd.read_csv(\"data/Student_performance_data.csv\")"
   ]
  },
  {
   "cell_type": "code",
   "execution_count": null,
   "metadata": {},
   "outputs": [],
   "source": [
    "# Nagłówek\n",
    "df.head()"
   ]
  },
  {
   "cell_type": "code",
   "execution_count": null,
   "metadata": {},
   "outputs": [],
   "source": [
    "# Przypomnijmy podstawowe statystyki\n",
    "df.describe()"
   ]
  },
  {
   "cell_type": "code",
   "execution_count": null,
   "metadata": {},
   "outputs": [],
   "source": [
    "# korelacja\n",
    "plt.figure(figsize=(10,8))\n",
    "sns.heatmap(round(df.corr(method= 'spearman'),2), annot =True, linewidths= 0.1)\n",
    "plt.show()"
   ]
  },
  {
   "cell_type": "markdown",
   "metadata": {},
   "source": [
    "Z analizy wynika, że mamy silną korelację pomiędzy liczbą nieobecności a średnią"
   ]
  },
  {
   "cell_type": "markdown",
   "metadata": {},
   "source": [
    "## Badanie wpływu zmiennych na średnią ocen GPA"
   ]
  },
  {
   "cell_type": "code",
   "execution_count": null,
   "metadata": {},
   "outputs": [],
   "source": [
    "# Średnia ocena dla osób z korepetycjami i bez\n",
    "df.groupby('Tutoring').describe()['GPA']"
   ]
  },
  {
   "cell_type": "code",
   "execution_count": null,
   "metadata": {},
   "outputs": [],
   "source": [
    "# Wykres gęstości\n",
    "sns.kdeplot(df, x='GPA', hue = 'Tutoring', fill = True, common_norm= False)\n",
    "plt.show()"
   ]
  },
  {
   "cell_type": "code",
   "execution_count": null,
   "metadata": {},
   "outputs": [],
   "source": [
    "# Box plot\n",
    "sns.boxplot(df, y= 'GPA', hue = 'Tutoring', fill = True)\n",
    "plt.show()"
   ]
  },
  {
   "cell_type": "code",
   "execution_count": null,
   "metadata": {},
   "outputs": [],
   "source": [
    "# Przeprowadzimy analizę wpływu zmiennych 'Tutoring','ParentalSupport','Extracurricular','ParentalEducation' na średnią\n",
    "vars = ['Tutoring','ParentalSupport','Extracurricular','ParentalEducation']\n",
    "for i in vars:\n",
    "    print(\"#########################\")\n",
    "    print(f'Start analysis for {i}')\n",
    "    print(df.groupby(i).describe()['GPA'])\n",
    "    fig, ax = plt.subplots(ncols=2, nrows =1 )\n",
    "    sns.kdeplot(ax = ax[0], data = df, x= 'GPA', hue = i, fill = True, common_norm= False)\n",
    "    sns.boxplot(ax = ax[1], data= df, y = 'GPA', hue = i, fill = True)\n",
    "    plt.title(f'GPA per {i}')\n",
    "    plt.show()\n",
    "    print(f'End analysis for {i}')\n",
    "    print(\"#########################\")"
   ]
  },
  {
   "cell_type": "markdown",
   "metadata": {},
   "source": [
    "Z powyższych wykresów widzimy, że rozkłady i średnia GPA są zróżnicowane według zmiennej Tutor, Extracurricular oraz Parental Support. W przypadku zmiennej Parental Education zależność jest nieliniowa. Można zmienić enkodowanie zmiennej, co wprowadziłoby monotoniczonść, jednak utracilibyśmy sens typów edukacji.\n",
    "Dla uczniów korzystających z korepetycji (tutoring=1) średnia ocen jest wyższa o około 16% (kwartyle również wskazują na wyższą średnią).\n",
    "Dla uczniów korzystających z dodatkowych zajęć (Extracurricular=1) średnia ocen jest wyższa o około 10% (kwartyle również wskazują na wyższą średnią).\n"
   ]
  },
  {
   "cell_type": "markdown",
   "metadata": {},
   "source": [
    "Wzrost parental support w badanej grupie powoduje wzrost średniej, można więc wnioskować, że warto wspierać dzieci w trakcie ich edukacji. Sprawdźmy średni wzrost."
   ]
  },
  {
   "cell_type": "code",
   "execution_count": null,
   "metadata": {},
   "outputs": [],
   "source": [
    "# Różnica wierszy\n",
    "df.groupby('ParentalSupport').describe()['GPA']['mean'].diff(1)"
   ]
  },
  {
   "cell_type": "code",
   "execution_count": null,
   "metadata": {},
   "outputs": [],
   "source": [
    "# Wykres różnicy w Średniej\n",
    "df.groupby('ParentalSupport').describe()['GPA']['mean'].diff(1).plot()\n",
    "plt.ylim(0,0.3)\n",
    "plt.show()"
   ]
  },
  {
   "cell_type": "markdown",
   "metadata": {},
   "source": [
    "Największą różnicę w wartościach bezwzględnych widać pomiędzy grupą 0 a 1, kolejne wykazują stały wzrost."
   ]
  },
  {
   "cell_type": "code",
   "execution_count": null,
   "metadata": {},
   "outputs": [],
   "source": [
    "# Wypisanie różnicy na ekranie\n",
    "df_group = df.groupby('ParentalSupport').describe()['GPA']['mean']\n",
    "df_group"
   ]
  },
  {
   "cell_type": "code",
   "execution_count": null,
   "metadata": {},
   "outputs": [],
   "source": [
    "value = round(df_group[4] - df_group[0],2)\n",
    "print(f'Różnica pomiędzy grupą bez wsparcia a z największym wynosi {value}.')"
   ]
  },
  {
   "cell_type": "markdown",
   "metadata": {},
   "source": [
    "Wiemy już jaki wpływ ma wsparcie rodziców na wyniki w jednostkach bezwzględnych. Możemy teraz sprawdzić jak się ona kształtuje procentowo."
   ]
  },
  {
   "cell_type": "code",
   "execution_count": null,
   "metadata": {},
   "outputs": [],
   "source": [
    "changes = df.groupby('ParentalSupport').describe()['GPA'][['mean']]\n",
    "changes"
   ]
  },
  {
   "cell_type": "code",
   "execution_count": null,
   "metadata": {},
   "outputs": [],
   "source": [
    "changes['previous_mean'] = changes['mean'].shift(1)\n",
    "changes"
   ]
  },
  {
   "cell_type": "code",
   "execution_count": null,
   "metadata": {},
   "outputs": [],
   "source": [
    "changes['percentage_change'] = changes['mean'] / changes['previous_mean'] - 1\n",
    "changes"
   ]
  },
  {
   "cell_type": "code",
   "execution_count": null,
   "metadata": {},
   "outputs": [],
   "source": [
    "changes['percentage_change'].plot()\n",
    "plt.ylim(0,0.15)\n",
    "plt.show()"
   ]
  },
  {
   "cell_type": "markdown",
   "metadata": {},
   "source": [
    "Powyższy wykres potwierdza, że największą różnicę w przeciętnej wartości średniej widać pomiędzy grupą bez wsparcia a ze wspraciem."
   ]
  },
  {
   "cell_type": "markdown",
   "metadata": {},
   "source": [
    "## Analiza ocen\n",
    "### Zmienne nominalne"
   ]
  },
  {
   "cell_type": "code",
   "execution_count": null,
   "metadata": {},
   "outputs": [],
   "source": [
    "# Rozklad wieku\n",
    "sns.kdeplot(df, x = 'Age', hue = 'GradeClass', fill= True, common_norm= False)\n",
    "plt.show()"
   ]
  },
  {
   "cell_type": "markdown",
   "metadata": {},
   "source": [
    "## Zmienne kategoryczne"
   ]
  },
  {
   "cell_type": "code",
   "execution_count": 20,
   "metadata": {},
   "outputs": [],
   "source": [
    "# Dodanie stalej do ramki danych\n",
    "df['denominator'] = 1"
   ]
  },
  {
   "cell_type": "code",
   "execution_count": null,
   "metadata": {},
   "outputs": [],
   "source": [
    "# Pivot table - tabela przestawna\n",
    "pivot_summary = pd.pivot_table(data = df, index = 'ParentalSupport', columns = 'GradeClass', aggfunc='sum', margins=True)['denominator']\n",
    "pivot_summary"
   ]
  },
  {
   "cell_type": "code",
   "execution_count": null,
   "metadata": {},
   "outputs": [],
   "source": [
    "pivot_summary.loc['All',:]"
   ]
  },
  {
   "cell_type": "code",
   "execution_count": null,
   "metadata": {},
   "outputs": [],
   "source": [
    "# Róznice procentowe\n",
    "df_percentage = round(pivot_summary / pivot_summary.loc['All',:],2).reset_index()\n",
    "df_percentage"
   ]
  },
  {
   "cell_type": "code",
   "execution_count": null,
   "metadata": {},
   "outputs": [],
   "source": []
  },
  {
   "cell_type": "code",
   "execution_count": null,
   "metadata": {},
   "outputs": [],
   "source": [
    "# Wizualizacja wyników procentowych\n",
    "for i in range(5):\n",
    "    plt.bar(x=[0,1,2,3,4], height = df_percentage.loc[0:4,float(i)])\n",
    "    plt.title(f'Rozklad wsparcia rodzicielskiego dla oceny {i}')\n",
    "    plt.show()"
   ]
  },
  {
   "cell_type": "markdown",
   "metadata": {},
   "source": [
    "Powyższe wykresy wykazują róznicę pomiędzy grupą bez wsparcia a ze wsparciem. Pomiędzy poszczególnymi grupami wsparcia rozkład cen jest podobny."
   ]
  }
 ],
 "metadata": {
  "kernelspec": {
   "display_name": "Python 3",
   "language": "python",
   "name": "python3"
  },
  "language_info": {
   "codemirror_mode": {
    "name": "ipython",
    "version": 3
   },
   "file_extension": ".py",
   "mimetype": "text/x-python",
   "name": "python",
   "nbconvert_exporter": "python",
   "pygments_lexer": "ipython3",
   "version": "3.12.5"
  }
 },
 "nbformat": 4,
 "nbformat_minor": 2
}
