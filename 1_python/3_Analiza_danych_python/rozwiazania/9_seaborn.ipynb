{
 "cells": [
  {
   "cell_type": "markdown",
   "metadata": {},
   "source": [
    "# Seaborn\n",
    "Seaborn jest pakietem do wizualizacji statystycznych bazującym na matplotlib.\n",
    "\n",
    "W trakcie tworzenia wykresów, będziemy mogli wykorystywać funkcje z biblioteki matplotlib\n",
    "\n",
    "Dokumentacja: https://seaborn.pydata.org/ \n",
    "\n",
    "Zbiór danych do analizy: https://www.kaggle.com/datasets/rabieelkharoua/students-performance-dataset"
   ]
  },
  {
   "cell_type": "code",
   "execution_count": null,
   "metadata": {},
   "outputs": [],
   "source": [
    "#pip install seaborn"
   ]
  },
  {
   "cell_type": "code",
   "execution_count": 2,
   "metadata": {},
   "outputs": [],
   "source": [
    "import pandas as pd\n",
    "import numpy as np \n",
    "import matplotlib.pyplot as plt \n",
    "import seaborn as sns"
   ]
  },
  {
   "cell_type": "code",
   "execution_count": 3,
   "metadata": {},
   "outputs": [],
   "source": [
    "# puść ten kod, \n",
    "# jeżeli wywołujesz plik  w folderze rozwiąznaia, \n",
    "# a ramka danych znajduje się w folderze data\n",
    "import os \n",
    "os.chdir('../')"
   ]
  },
  {
   "cell_type": "code",
   "execution_count": 4,
   "metadata": {},
   "outputs": [],
   "source": [
    "# Wczytanie zbioru\n",
    "df = pd.read_csv(\"data/Student_performance_data.csv\")"
   ]
  },
  {
   "cell_type": "code",
   "execution_count": null,
   "metadata": {},
   "outputs": [],
   "source": [
    "df.columns"
   ]
  },
  {
   "cell_type": "code",
   "execution_count": 6,
   "metadata": {},
   "outputs": [],
   "source": [
    "cols = ['Age','GPA','ParentalSupport','Extracurricular']"
   ]
  },
  {
   "cell_type": "code",
   "execution_count": null,
   "metadata": {},
   "outputs": [],
   "source": [
    "# pairplot\n",
    "sns.pairplot(df[cols])"
   ]
  },
  {
   "cell_type": "code",
   "execution_count": null,
   "metadata": {},
   "outputs": [],
   "source": [
    "# heatmap - mapa ciepła - często stosowana przy wizualizacji korelacji\n",
    "plt.figure(figsize=[10,8])\n",
    "sns.heatmap(df.corr(method = 'spearman').round(2), annot= True,linewidths=0.1)\n",
    "plt.show()"
   ]
  },
  {
   "cell_type": "code",
   "execution_count": null,
   "metadata": {},
   "outputs": [],
   "source": [
    "# Histogramy\n",
    "sns.histplot(data=df, x='GPA')"
   ]
  },
  {
   "cell_type": "code",
   "execution_count": null,
   "metadata": {},
   "outputs": [],
   "source": [
    "# Histogramy\n",
    "sns.histplot(df[['GPA','StudyTimeWeekly']])"
   ]
  },
  {
   "cell_type": "code",
   "execution_count": null,
   "metadata": {},
   "outputs": [],
   "source": [
    "# Sprawdźmy czas nauki w różnych grupach ocen\n",
    "# Weźmy najlepsze i najsłabsze oceny\n",
    "df['GradeClass'].value_counts()"
   ]
  },
  {
   "cell_type": "code",
   "execution_count": null,
   "metadata": {},
   "outputs": [],
   "source": [
    "# wizualizacja liczebności grup\n",
    "sns.countplot(df,x='GradeClass')\n",
    "plt.show()"
   ]
  },
  {
   "cell_type": "code",
   "execution_count": 13,
   "metadata": {},
   "outputs": [],
   "source": [
    "df_highest = df[df['GradeClass']==0.0]\n",
    "df_lowest  = df[df['GradeClass']==4.0]"
   ]
  },
  {
   "cell_type": "code",
   "execution_count": null,
   "metadata": {},
   "outputs": [],
   "source": [
    "# Sprawdźmy najpierw średnią\n",
    "sns.histplot(df_highest,x='GPA',alpha = 0.8, label = 'Highest' )\n",
    "sns.histplot(df_lowest,x='GPA',alpha= 0.8, label = 'Lowest')\n",
    "plt.legend()\n",
    "plt.show()\n",
    "\n"
   ]
  },
  {
   "cell_type": "code",
   "execution_count": null,
   "metadata": {},
   "outputs": [],
   "source": [
    "# Denisty plot\n",
    "sns.kdeplot(df_highest, x='StudyTimeWeekly', alpha = 0.6, fill=True)\n",
    "sns.kdeplot(df_lowest,x= 'StudyTimeWeekly', alpha = 0.6, fill= True)\n",
    "plt.legend(['High','Low'])\n",
    "plt.title('Study time weekly for the highest and the lowest grade')\n",
    "plt.show()"
   ]
  },
  {
   "cell_type": "code",
   "execution_count": null,
   "metadata": {},
   "outputs": [],
   "source": [
    "sns.kdeplot(df,x= 'StudyTimeWeekly', alpha =0.6, fill= True, hue ='GradeClass',common_norm=False)\n",
    "plt.title('Study time weekly per grade')\n",
    "plt.show()"
   ]
  },
  {
   "cell_type": "code",
   "execution_count": 17,
   "metadata": {},
   "outputs": [],
   "source": [
    "# Box plot"
   ]
  },
  {
   "cell_type": "code",
   "execution_count": null,
   "metadata": {},
   "outputs": [],
   "source": [
    "sns.boxplot(df, x= 'StudyTimeWeekly', fill=True, hue ='GradeClass')\n",
    "plt.title('Study time weekly per grade')\n",
    "plt.show()"
   ]
  },
  {
   "cell_type": "code",
   "execution_count": null,
   "metadata": {},
   "outputs": [],
   "source": []
  },
  {
   "cell_type": "markdown",
   "metadata": {},
   "source": [
    "### Violin plot\n",
    "Jest to połączenie box plot z density plot"
   ]
  },
  {
   "cell_type": "code",
   "execution_count": null,
   "metadata": {},
   "outputs": [],
   "source": [
    "# Violin plot\n",
    "sns.violinplot(df,x = 'StudyTimeWeekly', fill= True, hue = 'GradeClass')\n",
    "plt.title('Study time weekly per grade')\n",
    "plt.show()"
   ]
  },
  {
   "cell_type": "code",
   "execution_count": null,
   "metadata": {},
   "outputs": [],
   "source": [
    "# Na koniec inne spojrzenie na liczbę godzin i średnią ocen.\n",
    "sns.jointplot(df, x='StudyTimeWeekly', y='GPA')\n",
    "plt.show()"
   ]
  },
  {
   "cell_type": "markdown",
   "metadata": {},
   "source": [
    "Wszystkie powyższe wykresy wskazują, że większa liczba godzin nauki przekłada się na wyższy wynik. \n",
    "Powinniśmy również do problemu wielowymiarowo, co oznacza, że w tych podrgupach, inne czynniki mogły mieć wpływ na finalną ocenę."
   ]
  }
 ],
 "metadata": {
  "kernelspec": {
   "display_name": "Python 3",
   "language": "python",
   "name": "python3"
  },
  "language_info": {
   "codemirror_mode": {
    "name": "ipython",
    "version": 3
   },
   "file_extension": ".py",
   "mimetype": "text/x-python",
   "name": "python",
   "nbconvert_exporter": "python",
   "pygments_lexer": "ipython3",
   "version": "3.12.5"
  }
 },
 "nbformat": 4,
 "nbformat_minor": 2
}
